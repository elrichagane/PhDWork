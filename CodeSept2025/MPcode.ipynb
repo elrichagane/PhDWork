{
 "cells": [
  {
   "cell_type": "code",
   "execution_count": 25,
   "id": "b62d8d8d",
   "metadata": {},
   "outputs": [],
   "source": [
    "import pandas as pd\n",
    "import os\n",
    "import matplotlib.pyplot as plt"
   ]
  },
  {
   "cell_type": "code",
   "execution_count": 26,
   "id": "55e76d9a",
   "metadata": {},
   "outputs": [],
   "source": [
    "path = '/mnt/hdd/Workspace/MP_pipeline_Aug13/normal_mp'\n",
    "#filename = 'P4637_2024_10_11_15_48_16.csv'\n",
    "filename = 'P4637_2024_10_12_14_39_25.csv'\n",
    "file_path = os.path.join(path, filename)\n",
    "df = pd.read_csv(file_path)"
   ]
  },
  {
   "cell_type": "code",
   "execution_count": 27,
   "id": "f25dc1f5",
   "metadata": {},
   "outputs": [
    {
     "name": "stdout",
     "output_type": "stream",
     "text": [
      "     max_trials     mode   repeat_wrong   win_delays   lose_delays  \\\n",
      "0           inf   Mode 2              0            0             0   \n",
      "1           inf   Mode 2              0            0             0   \n",
      "2           inf   Mode 2              0            0             0   \n",
      "3           inf   Mode 2              0            0             0   \n",
      "4           inf   Mode 2              0            0             0   \n",
      "..          ...      ...            ...          ...           ...   \n",
      "310         inf   Mode 2              0            0             0   \n",
      "311         inf   Mode 2              0            0             0   \n",
      "312         inf   Mode 2              0            0             0   \n",
      "313         inf   Mode 2              0            0             0   \n",
      "314         inf   Mode 2              0            0             0   \n",
      "\n",
      "      L_win_L_delay   L_lose_L_delay   R_win_L_delay   R_lose_L_delay  \\\n",
      "0                 0                0               0                0   \n",
      "1                 0                0               0                0   \n",
      "2                 0                0               0                0   \n",
      "3                 0                0               0                0   \n",
      "4                 0                0               0                0   \n",
      "..              ...              ...             ...              ...   \n",
      "310               0                0               0                0   \n",
      "311               0                0               0                0   \n",
      "312               0                0               0                0   \n",
      "313               0                0               0                0   \n",
      "314               0                0               0                0   \n",
      "\n",
      "      R_win_R_delay  ...   R_light_off_ts   L_light_off_ts   choices  \\\n",
      "0                 0  ...           768830           768840     L1:R0   \n",
      "1                 0  ...           781736           781743     L2:R0   \n",
      "2                 0  ...           789965           789968     L2:R1   \n",
      "3                 0  ...           801187           801193     L2:R2   \n",
      "4                 0  ...           813137           813147     L3:R2   \n",
      "..              ...  ...              ...              ...       ...   \n",
      "310               0  ...          3396361          3396367     L2:R8   \n",
      "311               0  ...          3409290          3409296     L1:R9   \n",
      "312               0  ...          3429668          3429675     L1:R9   \n",
      "313               0  ...          3449594          3449600     L1:R9   \n",
      "314               0  ...                                               \n",
      "\n",
      "      performance                                           L_clicks  \\\n",
      "0          100.00   <html><body bgcolor=\"rgb(255;255;115)\" width=...   \n",
      "1           50.00   <html><body bgcolor=\"rgb(230;180;180)\" width=...   \n",
      "2           66.67                                            000(1)1   \n",
      "3           75.00                                            000(1)1   \n",
      "4           80.00   <html><body bgcolor=\"rgb(255;255;115)\" width=...   \n",
      "..            ...                                                ...   \n",
      "310         50.00                                            000(1)1   \n",
      "311         60.00                                            000(1)1   \n",
      "312         50.00                                            000(1)1   \n",
      "313         50.00                                            000(1)1   \n",
      "314                                                                    \n",
      "\n",
      "                                              R_clicks   error_id  \\\n",
      "0                                              000(1)1              \n",
      "1                                              000(1)1        203   \n",
      "2     <html><body bgcolor=\"rgb(255;255;115)\" width=...              \n",
      "3     <html><body bgcolor=\"rgb(255;255;115)\" width=...              \n",
      "4                                              000(1)1              \n",
      "..                                                 ...        ...   \n",
      "310   <html><body bgcolor=\"rgb(255;255;115)\" width=...              \n",
      "311   <html><body bgcolor=\"rgb(255;255;115)\" width=...              \n",
      "312   <html><body bgcolor=\"rgb(230;180;180)\" width=...        202   \n",
      "313   <html><body bgcolor=\"rgb(230;180;180)\" width=...        202   \n",
      "314                                                                 \n",
      "\n",
      "              error_string   house_light_on_ts   R_reward_ts  \n",
      "0                                                             \n",
      "1     wrong_choice_chose_L              781727                \n",
      "2                                                     789786  \n",
      "3                                                     800986  \n",
      "4                                                             \n",
      "..                     ...                 ...           ...  \n",
      "310                                                  3396165  \n",
      "311                                                  3409094  \n",
      "312   wrong_choice_chose_R             3429660                \n",
      "313   wrong_choice_chose_R             3449587                \n",
      "314                                                           \n",
      "\n",
      "[315 rows x 123 columns]\n"
     ]
    }
   ],
   "source": [
    "print(df)"
   ]
  },
  {
   "cell_type": "code",
   "execution_count": 28,
   "id": "3447f87e",
   "metadata": {},
   "outputs": [
    {
     "name": "stdout",
     "output_type": "stream",
     "text": [
      "Index(['max_trials', ' mode', ' repeat_wrong', ' win_delays', ' lose_delays',\n",
      "       ' L_win_L_delay', ' L_lose_L_delay', ' R_win_L_delay',\n",
      "       ' R_lose_L_delay', ' R_win_R_delay',\n",
      "       ...\n",
      "       ' R_light_off_ts', ' L_light_off_ts', ' choices', ' performance',\n",
      "       ' L_clicks', ' R_clicks', ' error_id', ' error_string',\n",
      "       ' house_light_on_ts', ' R_reward_ts'],\n",
      "      dtype='object', length=123)\n",
      " R_lose_R_delay\n"
     ]
    },
    {
     "data": {
      "text/plain": [
       "' mode'"
      ]
     },
     "execution_count": 28,
     "metadata": {},
     "output_type": "execute_result"
    }
   ],
   "source": [
    "colnames = df.columns.tolist()\n",
    "print(df.columns)\n",
    "print(colnames[10])\n",
    "df.columns[1].lower()"
   ]
  },
  {
   "cell_type": "code",
   "execution_count": 29,
   "id": "f2250482",
   "metadata": {},
   "outputs": [
    {
     "name": "stdout",
     "output_type": "stream",
     "text": [
      "Columns containing 'lose':\n",
      "  -  lose_delays\n",
      "  -  L_lose_L_delay\n",
      "  -  R_lose_L_delay\n",
      "  -  R_lose_R_delay\n",
      "  -  L_lose_R_delay\n",
      "Columns containing 'R_lose_R_delay':\n",
      "  -  R_lose_R_delay\n"
     ]
    },
    {
     "data": {
      "text/plain": [
       "[' R_lose_R_delay']"
      ]
     },
     "execution_count": 29,
     "metadata": {},
     "output_type": "execute_result"
    }
   ],
   "source": [
    "def find_columns(df, search_term=\"\"):\n",
    "    \"\"\"Find columns containing search term\"\"\"\n",
    "    if search_term:\n",
    "        matches = [col for col in df.columns if search_term.lower() in col.lower()]\n",
    "        print(f\"Columns containing '{search_term}':\")\n",
    "        for col in matches:\n",
    "            print(f\"  - {col}\")\n",
    "        return matches\n",
    "    else:\n",
    "        return df.columns.tolist()\n",
    "\n",
    "# Usage\n",
    "find_columns(df, \"lose\")\n",
    "find_columns(df, \"R_lose_R_delay\")"
   ]
  },
  {
   "cell_type": "code",
   "execution_count": 30,
   "id": "4f9a4ea2",
   "metadata": {},
   "outputs": [
    {
     "name": "stdout",
     "output_type": "stream",
     "text": [
      "Columns containing 'well':\n",
      "  -  well_error\n",
      "  -  well_timeout\n",
      "  -  debounce_down_well\n",
      "  -  rewarded_well\n",
      "  -  L_well_on_stim\n",
      "  -  L_well_off_stim\n",
      "  -  R_well_on_stim\n",
      "  -  R_well_off_stim\n",
      "  -  well_timeout_stim\n",
      "  -  well_early_go_stim\n",
      "  -  L_well_on_stim_delay\n",
      "  -  L_well_off_stim_delay\n",
      "  -  R_well_on_stim_delay\n",
      "  -  R_well_off_stim_delay\n",
      "  -  well_timeout_stim_delay\n",
      "  -  well_early_go_stim_delay\n",
      "  -  L_well_all_on_ts\n",
      "  -  L_well_all_off_ts\n",
      "  -  R_well_all_on_ts\n",
      "  -  R_well_all_off_ts\n",
      "  -  well_id\n",
      "  -  well_on_ts\n",
      "  -  well_off_ts\n",
      "  -  well_early_go_flg\n",
      "<class 'pandas.core.series.Series'> <class 'pandas.core.series.Series'> <class 'list'> 315 315\n"
     ]
    }
   ],
   "source": [
    "matches = find_columns(df, \"well\")\n",
    "ratchoice = df[\" well_id\"]\n",
    "\n",
    "comchoice = df[\" rewarded_well\"]\n",
    "print(type(comchoice), type(ratchoice), type(matches), len(comchoice), len(ratchoice))\n",
    "#df[matches[4]]"
   ]
  },
  {
   "cell_type": "code",
   "execution_count": 31,
   "id": "a323139a",
   "metadata": {},
   "outputs": [
    {
     "name": "stdout",
     "output_type": "stream",
     "text": [
      "0      0\n",
      "1      0\n",
      "2      1\n",
      "3      1\n",
      "4      1\n",
      "      ..\n",
      "310    1\n",
      "311    1\n",
      "312    0\n",
      "313    0\n",
      "314    0\n",
      "Length: 315, dtype: int64\n",
      "0.49206349206349204\n"
     ]
    }
   ],
   "source": [
    "wins = (ratchoice==comchoice).astype(int)\n",
    "print(wins)\n",
    "print(sum(wins==1)/len(wins))"
   ]
  },
  {
   "cell_type": "code",
   "execution_count": 32,
   "id": "f034a45b",
   "metadata": {},
   "outputs": [
    {
     "name": "stdout",
     "output_type": "stream",
     "text": [
      "0      0\n",
      "1      0\n",
      "2      0\n",
      "3      1\n",
      "4      0\n",
      "      ..\n",
      "310    0\n",
      "311    1\n",
      "312    1\n",
      "313    0\n",
      "314    0\n",
      "Length: 315, dtype: int64 0       L\n",
      "1       L\n",
      "2       R\n",
      "3       R\n",
      "4       L\n",
      "       ..\n",
      "310     R\n",
      "311     R\n",
      "312     R\n",
      "313     R\n",
      "314      \n",
      "Name:  well_id, Length: 315, dtype: object 0       E\n",
      "1       R\n",
      "2       R\n",
      "3       R\n",
      "4       L\n",
      "       ..\n",
      "310     R\n",
      "311     R\n",
      "312     L\n",
      "313     L\n",
      "314     L\n",
      "Name:  rewarded_well, Length: 315, dtype: object\n"
     ]
    }
   ],
   "source": [
    "def calculate_win_stay(ratchoice, wins):\n",
    "    prev_wins = wins.shift(1)\n",
    "    stayed = ratchoice == ratchoice.shift(1)\n",
    "    win_stay = (prev_wins==1) & stayed\n",
    "    return win_stay.astype(int)\n",
    "\n",
    "winstay = calculate_win_stay(ratchoice, wins)\n",
    "print(winstay, ratchoice, comchoice)"
   ]
  },
  {
   "cell_type": "code",
   "execution_count": 33,
   "id": "3091e73e",
   "metadata": {},
   "outputs": [
    {
     "name": "stdout",
     "output_type": "stream",
     "text": [
      "Win-stay instances: 78\n",
      "Total opportunities for win-stay: 155\n"
     ]
    }
   ],
   "source": [
    "# More concise version\n",
    "ratchoice = df[\" well_id\"]\n",
    "\n",
    "comchoice = df[\" rewarded_well\"]\n",
    "df['wins'] = (ratchoice==comchoice).astype(int)\n",
    "df['win_stay'] = ((df['wins'].shift(1) == 1) & \n",
    "                  (df[' well_id'] == df[' well_id'].shift(1))).astype(int)\n",
    "\n",
    "print(f\"Win-stay instances: {df['win_stay'].sum()}\")\n",
    "print(f\"Total opportunities for win-stay: {(df['wins'].shift(1) == 1).sum()}\")"
   ]
  },
  {
   "cell_type": "code",
   "execution_count": 34,
   "id": "c59e7c1e",
   "metadata": {},
   "outputs": [
    {
     "data": {
      "image/png": "[encoded data removed]",
      "text/plain": [
       "<Figure size 1200x600 with 1 Axes>"
      ]
     },
     "metadata": {},
     "output_type": "display_data"
    }
   ],
   "source": [
    "# Group trials into bins and calculate win-stay rate for each bin\n",
    "bin_size = 25  # Trials per bin\n",
    "df['trial_bin'] = df.index // bin_size\n",
    "\n",
    "bin_stats = df.groupby('trial_bin').agg({\n",
    "    'win_stay': ['sum', 'count', 'mean'],\n",
    "    'wins': 'mean'  # Also plot win rate for comparison\n",
    "}).round(3)\n",
    "\n",
    "bin_stats.columns = ['win_stay_count', 'total_trials', 'win_stay_rate', 'win_rate']\n",
    "\n",
    "plt.figure(figsize=(12, 6))\n",
    "x_pos = bin_stats.index * bin_size + bin_size/2  # Center of each bin\n",
    "\n",
    "plt.plot(x_pos, bin_stats['win_stay_rate'], marker='o', linewidth=2, markersize=6, label='Win-Stay Rate')\n",
    "plt.title(f'Win-Stay Rate by Trial Blocks (bins of {bin_size} trials)')\n",
    "plt.xlabel('Trial Number')\n",
    "plt.ylabel('Win-Stay Rate')\n",
    "plt.grid(True, alpha=0.3)\n",
    "plt.legend()\n",
    "plt.ylim(0, 1)\n",
    "plt.show()"
   ]
  },
  {
   "cell_type": "code",
   "execution_count": 35,
   "id": "e04bca92",
   "metadata": {},
   "outputs": [
    {
     "name": "stdout",
     "output_type": "stream",
     "text": [
      "0       0\n",
      "1       0\n",
      "2       0\n",
      "3       0\n",
      "4       0\n",
      "       ..\n",
      "310    12\n",
      "311    12\n",
      "312    12\n",
      "313    12\n",
      "314    12\n",
      "Name: trial_bin, Length: 315, dtype: int64\n"
     ]
    }
   ],
   "source": [
    "print(df['trial_bin'])"
   ]
  },
  {
   "cell_type": "code",
   "execution_count": null,
   "id": "cec1a84e",
   "metadata": {},
   "outputs": [],
   "source": []
  }
 ],
 "metadata": {
  "kernelspec": {
   "display_name": "szenv",
   "language": "python",
   "name": "python3"
  },
  "language_info": {
   "codemirror_mode": {
    "name": "ipython",
    "version": 3
   },
   "file_extension": ".py",
   "mimetype": "text/x-python",
   "name": "python",
   "nbconvert_exporter": "python",
   "pygments_lexer": "ipython3",
   "version": "3.13.7"
  }
 },
 "nbformat": 4,
 "nbformat_minor": 5
}
