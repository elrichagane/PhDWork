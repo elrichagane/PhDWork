{
 "cells": [
  {
   "cell_type": "markdown",
   "metadata": {},
   "source": [
    "## Install Required Libraries"
   ]
  },
  {
   "cell_type": "code",
   "execution_count": null,
   "metadata": {
    "execution": {
     "iopub.execute_input": "2025-06-05T07:52:02.349185Z",
     "iopub.status.busy": "2025-06-05T07:52:02.348840Z",
     "iopub.status.idle": "2025-06-05T07:52:06.650277Z",
     "shell.execute_reply": "2025-06-05T07:52:06.648819Z",
     "shell.execute_reply.started": "2025-06-05T07:52:02.349163Z"
    },
    "trusted": true
   },
   "outputs": [],
   "source": [
    "#pip install mat73\n",
    "#pip install pymultitaper"
   ]
  },
  {
   "cell_type": "code",
   "execution_count": 1,
   "metadata": {
    "execution": {
     "iopub.execute_input": "2025-06-05T22:27:52.417214Z",
     "iopub.status.busy": "2025-06-05T22:27:52.416870Z",
     "iopub.status.idle": "2025-06-05T22:27:52.518807Z",
     "shell.execute_reply": "2025-06-05T22:27:52.515998Z",
     "shell.execute_reply.started": "2025-06-05T22:27:52.417180Z"
    },
    "trusted": true
   },
   "outputs": [
    {
     "ename": "ModuleNotFoundError",
     "evalue": "No module named 'pymultitaper'",
     "output_type": "error",
     "traceback": [
      "\u001b[0;31m---------------------------------------------------------------------------\u001b[0m",
      "\u001b[0;31mModuleNotFoundError\u001b[0m                       Traceback (most recent call last)",
      "\u001b[0;32m/tmp/ipykernel_35/3477569716.py\u001b[0m in \u001b[0;36m<cell line: 0>\u001b[0;34m()\u001b[0m\n\u001b[0;32m----> 1\u001b[0;31m \u001b[0;32mfrom\u001b[0m \u001b[0mpymultitaper\u001b[0m \u001b[0;32mimport\u001b[0m \u001b[0mmultitaper_spectrogram\u001b[0m\u001b[0;34m,\u001b[0m \u001b[0mplot_spectrogram\u001b[0m\u001b[0;34m\u001b[0m\u001b[0;34m\u001b[0m\u001b[0m\n\u001b[0m",
      "\u001b[0;31mModuleNotFoundError\u001b[0m: No module named 'pymultitaper'"
     ]
    }
   ],
   "source": [
    "from pymultitaper import multitaper_spectrogram, plot_spectrogram"
   ]
  },
  {
   "cell_type": "markdown",
   "metadata": {},
   "source": [
    "## Import Required Libraries"
   ]
  },
  {
   "cell_type": "code",
   "execution_count": null,
   "metadata": {
    "execution": {
     "iopub.execute_input": "2025-06-05T07:52:06.652744Z",
     "iopub.status.busy": "2025-06-05T07:52:06.652433Z",
     "iopub.status.idle": "2025-06-05T07:52:07.354157Z",
     "shell.execute_reply": "2025-06-05T07:52:07.353211Z",
     "shell.execute_reply.started": "2025-06-05T07:52:06.652718Z"
    },
    "trusted": true
   },
   "outputs": [],
   "source": [
    "import pandas as pd\n",
    "import numpy as np\n",
    "import mat73"
   ]
  },
  {
   "cell_type": "markdown",
   "metadata": {},
   "source": [
    "## Data Reading and PreProcessing"
   ]
  },
  {
   "cell_type": "code",
   "execution_count": null,
   "metadata": {
    "execution": {
     "iopub.execute_input": "2025-06-05T07:52:07.355450Z",
     "iopub.status.busy": "2025-06-05T07:52:07.355027Z",
     "iopub.status.idle": "2025-06-05T07:52:09.068294Z",
     "shell.execute_reply": "2025-06-05T07:52:09.067127Z",
     "shell.execute_reply.started": "2025-06-05T07:52:07.355426Z"
    },
    "trusted": true
   },
   "outputs": [],
   "source": [
    "# Load .mat file\n",
    "data = mat73.loadmat('/kaggle/input/seizure-eeg-classification/lfpUCLAC.mat')[\"lfpUCLAC\"]\n",
    "# Turn seizure data into a DataFrame\n",
    "data = np.concatenate((data[:, :2], data[:, 11:]), axis=1)\n",
    "column_names = [\"Animal\", \"Session\"]\n",
    "column_names += [f\"SZ_{i}\" for i in range(11, 36012)]\n",
    "seizure = pd.DataFrame(data, columns=column_names)\n",
    "# Read Meta Data\n",
    "metadata = pd.read_csv(\"/kaggle/input/seizure-eeg-classification/ADszNov7v21LeoIv2(in).csv\")\n",
    "# Merge two DataFrames\n",
    "dataset = pd.merge(metadata, seizure, on=[\"Animal\", \"Session\"], how='inner')"
   ]
  },
  {
   "cell_type": "code",
   "execution_count": null,
   "metadata": {
    "execution": {
     "iopub.execute_input": "2025-06-05T07:52:09.070990Z",
     "iopub.status.busy": "2025-06-05T07:52:09.070713Z",
     "iopub.status.idle": "2025-06-05T07:52:09.114224Z",
     "shell.execute_reply": "2025-06-05T07:52:09.113086Z",
     "shell.execute_reply.started": "2025-06-05T07:52:09.070969Z"
    },
    "trusted": true
   },
   "outputs": [],
   "source": [
    "dataset"
   ]
  },
  {
   "cell_type": "code",
   "execution_count": null,
   "metadata": {
    "execution": {
     "iopub.execute_input": "2025-06-05T07:52:09.115634Z",
     "iopub.status.busy": "2025-06-05T07:52:09.115332Z",
     "iopub.status.idle": "2025-06-05T07:52:10.649001Z",
     "shell.execute_reply": "2025-06-05T07:52:10.648025Z",
     "shell.execute_reply.started": "2025-06-05T07:52:09.115611Z"
    },
    "trusted": true
   },
   "outputs": [],
   "source": [
    "dataset.info()"
   ]
  },
  {
   "cell_type": "code",
   "execution_count": null,
   "metadata": {
    "execution": {
     "iopub.execute_input": "2025-06-05T07:52:10.650241Z",
     "iopub.status.busy": "2025-06-05T07:52:10.649894Z",
     "iopub.status.idle": "2025-06-05T07:52:11.056367Z",
     "shell.execute_reply": "2025-06-05T07:52:11.055111Z",
     "shell.execute_reply.started": "2025-06-05T07:52:10.650220Z"
    },
    "trusted": true
   },
   "outputs": [],
   "source": [
    "from scipy.signal import butter, filtfilt\n",
    "\n",
    "# Design the bandpass filter\n",
    "b, a = butter(8, [4, 40], \n",
    "              btype='bandpass', fs=200)\n",
    "\n",
    "# Apply zero-phase filtering\n",
    "fast = filtfilt(b, a, dataset.loc[:, \"SZ_11\":])"
   ]
  },
  {
   "cell_type": "code",
   "execution_count": null,
   "metadata": {
    "execution": {
     "iopub.execute_input": "2025-06-05T07:52:11.057731Z",
     "iopub.status.busy": "2025-06-05T07:52:11.057391Z",
     "iopub.status.idle": "2025-06-05T07:52:11.066223Z",
     "shell.execute_reply": "2025-06-05T07:52:11.065118Z",
     "shell.execute_reply.started": "2025-06-05T07:52:11.057701Z"
    },
    "trusted": true
   },
   "outputs": [],
   "source": [
    "fast.shape"
   ]
  },
  {
   "cell_type": "code",
   "execution_count": null,
   "metadata": {
    "execution": {
     "iopub.execute_input": "2025-06-05T07:57:50.164763Z",
     "iopub.status.busy": "2025-06-05T07:57:50.164362Z",
     "iopub.status.idle": "2025-06-05T07:57:50.410850Z",
     "shell.execute_reply": "2025-06-05T07:57:50.409612Z",
     "shell.execute_reply.started": "2025-06-05T07:57:50.164732Z"
    },
    "trusted": true
   },
   "outputs": [],
   "source": [
    "Skip to main content\n",
    "Accessibility help\n",
    "Accessibility feedback\n",
    "how to do a mutitaper spectrogram in python\n",
    "All\n",
    "Videos\n",
    "Images\n",
    "Forums\n",
    "Shopping\n",
    "Web\n",
    "News\n",
    "More\n",
    "Tools\n",
    "AI Overview\n",
    ":\n",
    "To perform a multitaper spectrogram in Python, you can use several libraries, each offering slightly different implementations and features. Here's a breakdown of common approaches:\n",
    "1. Using pymultitaper\n",
    "This library is specifically designed for multitaper analysis and provides a straightforward way to compute spectrograms.\n",
    "Installation:\n",
    "Code\n",
    "\n",
    "pip install pymultitaper\n",
    "\n",
    "Code Example:\n",
    "Python\n",
    "\n",
    "import numpy as np\n",
    "import matplotlib.pyplot as plt\n",
    "from pymultitaper import multitaper_spectrogram, plot_spectrogram\n",
    "\n",
    "# Generate sample data (replace with your actual data)\n",
    "fs = 1000  # Sampling frequency\n",
    "duration = 10  # Duration in seconds\n",
    "t = np.arange(0, duration, 1 / fs)\n",
    "data = np.sin(2 * np.pi * 50 * t) + np.sin(2 * np.pi * 120 * t) + 0.5 * np.random.randn(len(t))\n",
    "\n",
    "# Compute the multitaper spectrogram\n",
    "times, freqs, psd = multitaper_spectrogram(data, fs, time_step=0.1, window_length=0.5, NW=4)\n",
    "\n",
    "# Plot the spectrogram\n",
    "fig, ax = plot_spectrogram(times, freqs, psd, cmap=\"viridis\")\n",
    "plt.show()\n",
    "\n",
    "Explanation:\n",
    "\n",
    "    multitaper_spectrogram: This function computes the multitaper spectrogram.\n",
    "        data: Your input time series data.\n",
    "        fs: The sampling frequency of the data.\n",
    "        time_step: The time step between spectrogram windows.\n",
    "        window_length: The length of each time window.\n",
    "        NW: The time-bandwidth product, which controls the number of tapers. \n",
    "    plot_spectrogram: This function plots the resulting spectrogram.\n",
    "\n",
    "2. Using spectrum\n",
    "The spectrum library offers a variety of spectral analysis tools, including multitaper methods.\n",
    "Installation:\n",
    "Code\n",
    "\n",
    "pip install spectrum\n",
    "\n",
    "Oops, something went wrong.\n",
    "Prerau Lab Multitaper Spectrogram Code\n",
    "GitHub\n",
    "https://github.com › preraulab › multitaper_toolbox\n",
    "This repository contains Matlab, Python, and R implementations of the multitaper spectrogram analysis described in the paper Sleep Neurophysiological Dynamics\n",
    "Multi-taper Spectral Analysis with spectrum in python\n",
    "Stack Overflow\n",
    "2 answers · 4 years ago\n",
    "Now for people finding this, you can just use a small package pymultitaper to do this. pip install pymultitaper. And simply: from pymultitaper ...\n",
    "2 answers\n",
    "  ·  Top answer: From my understanding, there is a couple of factors that are at play here. First, to ...\n",
    "matlab - Multitaper function in Python? - Stack Overflow\n",
    "1 answer\n",
    "Oct 27, 2015\n",
    "Understanding the frequency axis of multitaper method ...\n",
    "1 answer\n",
    "Jun 2, 2018\n",
    "More results from stackoverflow.com\n",
    "Discussions and forums\n",
    "How Can I create spectrogram images for number of epochs\n",
    "MNE Forum · \n",
    "2 years ago\n",
    "MNE-Python offers the choice of three algorithms to compute spectrograms: Morlet wavelets, multitaper, and Stockwell transform.  More\n",
    "Understanding the frequency axis of multitaper method in Python\n",
    "Stack Overflow · \n",
    "1 answer\n",
    " · 7 years ago\n",
    "generating spectrograms in python with less noise\n",
    "Signal Processing Stack Exchange · \n",
    "5 answers\n",
    " · 11 years ago\n",
    "See more\n",
    "The Multitaper Spectrum Analysis Package in Python\n",
    "German Prieto\n",
    "https://gaprieto.com › uploads › 2022/04\n",
    "PDF\n",
    "by GA Prieto · Cited by 50 — It creates a. Python class (MTSpec) with the resulting multitaper estimate of the PSD but can provide further information including confi- dence intervals ...\n",
    "8 pages\n",
    "gaprieto/multitaper: Multitaper codes translated into Python.\n",
    "GitHub\n",
    "https://github.com › gaprieto › multitaper\n",
    "As of January 2022, multitaper can be installed using conda. pip installation is also available. You can also simply download the folder and install and add to ...\n",
    "Multitaper Spectral Analysis for Sleep EEG\n",
    "Prerau Lab\n",
    "https://prerau.bwh.harvard.edu › multitaper\n",
    "In this video, we go over an example implementation of the multitaper spectrogram in Matlab. To follow along, download the teaching version of ...\n",
    "5.2. Multitapering — spectrum 0.9.0 documentation\n",
    "pyspectrum\n",
    "https://pyspectrum.readthedocs.io › latest › ref_mtm\n",
    "First we compute different simple periodogram with the whole data set (to keep good resolution) but each periodgram is computed with a different tapering ...\n",
    "The Multitaper Spectrum Analysis Package in Python\n",
    "GeoScienceWorld\n",
    "https://pubs.geoscienceworld.org › ssa › srl › article › T...\n",
    "by GA Prieto · 2022 · Cited by 50 — I present an open‐source Python package, multitaper, for spectral analysis using the multitaper algorithm.\n",
    "Abstract\n",
    "Introduction\n",
    "Multitaper Spectrum Analysis\n",
    "Earthquake Source Time...\n",
    "Multitaper spectral estimation\n",
    "nipy.org\n",
    "https://nipy.org › nitime › multi_taper_spectral_estimation\n",
    "We will demonstrate the use of DPSS in spectral estimation on a time-series with known spectral properties generated from an auto-regressive process.\n",
    "The multi-taper method\n",
    "YouTube · Mike X Cohen\n",
    "11.6K+ views · 5 years ago\n",
    "11:04\n",
    "The multi taper method is a time-frequency decomposition method that stands apart from the other three methods.\n",
    "10 key moments in this video\n",
    "People also search for\n",
    "How to do a multitaper spectrogram in python example\n",
    "How to do a multitaper spectrogram in python using\n",
    "Scipy multitaper\n",
    "Multitaper spectral analysis\n",
    "Multitaper spectral analysis Matlab\n",
    "Sleep neurophysiological dynamics through the lens of multitaper spectral analysis\n",
    "Multitaper vs Welch\n",
    "\t1\t\n",
    "2\n",
    "\t\n",
    "3\n",
    "\t\n",
    "4\n",
    "\t\n",
    "5\n",
    "\t\n",
    "6\n",
    "\t\n",
    "7\n",
    "\t\n",
    "8\n",
    "\t\n",
    "9\n",
    "\t\n",
    "10\n",
    "\t\n",
    "Next\n",
    "Results are personalized-Try without personalization\n",
    "Canada\n",
    "T2N 4N1, Calgary, AB\n",
    " - Based on your places (Work)\n",
    " - Update location\n",
    "HelpSend feedbackPrivacyTerms\n",
    "AI overview is readyimport matplotlib.pyplot as plt\n",
    "start = -60\n",
    "stop = 120\n",
    "frequency = 200.0\n",
    "time = np.linspace(start, stop, int((stop - start) * frequency)).reshape(-1, 1)\n",
    "#print(time.shape, fast[164, :36000].shape)\n",
    "plt.plot(time,fast[164, :36000])\n"
   ]
  },
  {
   "cell_type": "code",
   "execution_count": null,
   "metadata": {
    "execution": {
     "iopub.execute_input": "2025-06-05T07:52:11.360237Z",
     "iopub.status.busy": "2025-06-05T07:52:11.359976Z",
     "iopub.status.idle": "2025-06-05T07:52:11.563551Z",
     "shell.execute_reply": "2025-06-05T07:52:11.562536Z",
     "shell.execute_reply.started": "2025-06-05T07:52:11.360219Z"
    },
    "trusted": true
   },
   "outputs": [],
   "source": [
    "start_idx = dataset.columns.get_loc(\"SZ_11\")  # Get position of \"SZ_11\"\n",
    "rawdata = np.array(dataset.iloc[164, start_idx:-1])  # Slice to second-to-last column\n",
    "print(rawdata.dtype, rawdata.shape)\n",
    "plt.plot(time,rawdata)\n",
    "#plt.xticks([])\n",
    "plt.show()"
   ]
  },
  {
   "cell_type": "code",
   "execution_count": null,
   "metadata": {
    "execution": {
     "iopub.execute_input": "2025-06-05T07:52:11.566625Z",
     "iopub.status.busy": "2025-06-05T07:52:11.566357Z",
     "iopub.status.idle": "2025-06-05T07:52:15.507946Z",
     "shell.execute_reply": "2025-06-05T07:52:15.506547Z",
     "shell.execute_reply.started": "2025-06-05T07:52:11.566606Z"
    },
    "trusted": true
   },
   "outputs": [],
   "source": [
    "!pip install spectrum\n",
    "from spectrum import dpss, pmtm  # Multitaper spectral analysis"
   ]
  },
  {
   "cell_type": "code",
   "execution_count": null,
   "metadata": {
    "execution": {
     "iopub.execute_input": "2025-06-05T08:03:46.738857Z",
     "iopub.status.busy": "2025-06-05T08:03:46.738512Z",
     "iopub.status.idle": "2025-06-05T08:03:46.754775Z",
     "shell.execute_reply": "2025-06-05T08:03:46.753212Z",
     "shell.execute_reply.started": "2025-06-05T08:03:46.738832Z"
    },
    "trusted": true
   },
   "outputs": [],
   "source": [
    "#import numpy as np\n",
    "#from spectrum import pmtm\n",
    "#import matplotlib.pyplot as plt\n",
    "\n",
    "# Generate test signal\n",
    "fs = 200  # Sampling rate (Hz)\n",
    "#t = np.arange(0, 10, 1/fs)\n",
    "#data = np.sin(2 * np.pi * 20 * t) + 0.5 * np.random.randn(len(t))\n",
    "\n",
    "# Compute multitaper PSD\n",
    "NW = 4  # Time-bandwidth product\n",
    "K = 7   # Number of tapers\n",
    "[psd, freqs] = pmtm(fast[164, :36000], NW, K, Fs=fs, show=False)\n",
    "\n",
    "# Plot\n",
    "plt.plot(freqs, 10 * np.log10(psd))\n",
    "plt.xlabel('Frequency (Hz)')\n",
    "plt.ylabel('Power (dB)')\n",
    "plt.title('Multitaper PSD (via spectrum)')\n",
    "plt.show()"
   ]
  },
  {
   "cell_type": "code",
   "execution_count": null,
   "metadata": {
    "execution": {
     "iopub.execute_input": "2025-06-05T08:05:11.484013Z",
     "iopub.status.busy": "2025-06-05T08:05:11.483643Z",
     "iopub.status.idle": "2025-06-05T08:05:11.501584Z",
     "shell.execute_reply": "2025-06-05T08:05:11.500275Z",
     "shell.execute_reply.started": "2025-06-05T08:05:11.483988Z"
    },
    "trusted": true
   },
   "outputs": [],
   "source": [
    "import numpy as np\n",
    "from spectrum import pmtm\n",
    "import matplotlib.pyplot as plt\n",
    "\n",
    "# Create test signal\n",
    "fs = 1000  # Sampling frequency (Hz)\n",
    "t = np.linspace(0, 1, fs)\n",
    "x = np.sin(2*np.pi*50*t) + 0.5*np.random.randn(fs)\n",
    "\n",
    "# Compute multitaper spectrum\n",
    "[psd, freqs] = pmtm(x, NW=3.5, k=5, NFFT=1024, Fs=fs)\n",
    "\n",
    "# Plot\n",
    "plt.plot(freqs, 10*np.log10(psd))\n",
    "plt.xlabel('Frequency (Hz)')\n",
    "plt.ylabel('Power (dB)')\n",
    "plt.title('Multitaper Power Spectrum')\n",
    "plt.grid()\n",
    "plt.show()"
   ]
  },
  {
   "cell_type": "code",
   "execution_count": null,
   "metadata": {
    "execution": {
     "iopub.execute_input": "2025-06-05T07:57:15.739721Z",
     "iopub.status.busy": "2025-06-05T07:57:15.739424Z",
     "iopub.status.idle": "2025-06-05T07:57:15.746379Z",
     "shell.execute_reply": "2025-06-05T07:57:15.745206Z",
     "shell.execute_reply.started": "2025-06-05T07:57:15.739700Z"
    },
    "trusted": true
   },
   "outputs": [],
   "source": [
    "frequency"
   ]
  }
 ],
 "metadata": {
  "kaggle": {
   "accelerator": "none",
   "dataSources": [
    {
     "datasetId": 7540301,
     "sourceId": 11988302,
     "sourceType": "datasetVersion"
    }
   ],
   "dockerImageVersionId": 31040,
   "isGpuEnabled": false,
   "isInternetEnabled": true,
   "language": "python",
   "sourceType": "notebook"
  },
  "kernelspec": {
   "display_name": "Python 3",
   "language": "python",
   "name": "python3"
  },
  "language_info": {
   "codemirror_mode": {
    "name": "ipython",
    "version": 3
   },
   "file_extension": ".py",
   "mimetype": "text/x-python",
   "name": "python",
   "nbconvert_exporter": "python",
   "pygments_lexer": "ipython3",
   "version": "3.11.11"
  }
 },
 "nbformat": 4,
 "nbformat_minor": 4
}
