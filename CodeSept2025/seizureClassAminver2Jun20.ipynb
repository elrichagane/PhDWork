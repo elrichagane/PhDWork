{
 "cells": [
  {
   "cell_type": "markdown",
   "metadata": {},
   "source": [
    "## Import Required Libraries"
   ]
  },
  {
   "cell_type": "code",
   "execution_count": 390,
   "metadata": {
    "execution": {
     "iopub.execute_input": "2025-06-15T20:14:21.846229Z",
     "iopub.status.busy": "2025-06-15T20:14:21.845581Z",
     "iopub.status.idle": "2025-06-15T20:14:23.152607Z",
     "shell.execute_reply": "2025-06-15T20:14:23.151696Z",
     "shell.execute_reply.started": "2025-06-15T20:14:21.846198Z"
    },
    "trusted": true
   },
   "outputs": [],
   "source": [
    "import pandas as pd\n",
    "import numpy as np\n",
    "import mat73\n",
    "import matplotlib.pyplot as plt\n",
    "from scipy.signal import butter, filtfilt\n",
    "from scipy.stats import zscore\n",
    "from pymultitaper import multitaper_spectrogram, plot_spectrogram"
   ]
  },
  {
   "cell_type": "markdown",
   "metadata": {},
   "source": [
    "## Data Reading and PreProcessing"
   ]
  },
  {
   "cell_type": "code",
   "execution_count": 391,
   "metadata": {
    "execution": {
     "iopub.execute_input": "2025-06-15T20:14:23.155439Z",
     "iopub.status.busy": "2025-06-15T20:14:23.155013Z",
     "iopub.status.idle": "2025-06-15T20:14:24.611444Z",
     "shell.execute_reply": "2025-06-15T20:14:24.610370Z",
     "shell.execute_reply.started": "2025-06-15T20:14:23.155415Z"
    },
    "trusted": true
   },
   "outputs": [],
   "source": [
    "# Load .mat file\n",
    "data = mat73.loadmat('./lfpUCLAC.mat')[\"lfpUCLAC\"]\n",
    "#data = mat73.loadmat('lfpUCLAC.mat')[\"lfpUCLAC\"]\n",
    "# Turn seizure data into a DataFrame\n",
    "data = np.concatenate((data[:, :2], data[:, 11:]), axis=1)\n",
    "column_names = [\"Animal\", \"Session\"]\n",
    "column_names += [f\"SZ_{i}\" for i in range(11, 36012)]\n",
    "seizure = pd.DataFrame(data, columns=column_names)\n",
    "# Read Meta Data\n",
    "#metadata = pd.read_csv(\"ADszNov7v21LeoIv2(in).csv\")\n",
    "metadata = pd.read_csv(\"./ADszNov7v21LeoIv3.csv\")\n",
    "# Merge two DataFrames\n",
    "dataset = pd.merge(metadata, seizure, on=[\"Animal\", \"Session\"], how='inner')"
   ]
  },
  {
   "cell_type": "code",
   "execution_count": 392,
   "metadata": {
    "execution": {
     "iopub.execute_input": "2025-06-15T20:14:24.612701Z",
     "iopub.status.busy": "2025-06-15T20:14:24.612456Z",
     "iopub.status.idle": "2025-06-15T20:14:24.652974Z",
     "shell.execute_reply": "2025-06-15T20:14:24.652106Z",
     "shell.execute_reply.started": "2025-06-15T20:14:24.612679Z"
    },
    "trusted": true
   },
   "outputs": [
    {
     "data": {
      "text/html": [
       "<div>\n",
       "<style scoped>\n",
       "    .dataframe tbody tr th:only-of-type {\n",
       "        vertical-align: middle;\n",
       "    }\n",
       "\n",
       "    .dataframe tbody tr th {\n",
       "        vertical-align: top;\n",
       "    }\n",
       "\n",
       "    .dataframe thead th {\n",
       "        text-align: right;\n",
       "    }\n",
       "</style>\n",
       "<table border=\"1\" class=\"dataframe\">\n",
       "  <thead>\n",
       "    <tr style=\"text-align: right;\">\n",
       "      <th></th>\n",
       "      <th>Animal</th>\n",
       "      <th>Session</th>\n",
       "      <th>group</th>\n",
       "      <th>BaseStart</th>\n",
       "      <th>BaseEnd</th>\n",
       "      <th>NoSzstart2</th>\n",
       "      <th>NoSzend2</th>\n",
       "      <th>SzArtifactStart</th>\n",
       "      <th>SzArtifactEnd</th>\n",
       "      <th>SeizureStart</th>\n",
       "      <th>...</th>\n",
       "      <th>SZ_36002</th>\n",
       "      <th>SZ_36003</th>\n",
       "      <th>SZ_36004</th>\n",
       "      <th>SZ_36005</th>\n",
       "      <th>SZ_36006</th>\n",
       "      <th>SZ_36007</th>\n",
       "      <th>SZ_36008</th>\n",
       "      <th>SZ_36009</th>\n",
       "      <th>SZ_36010</th>\n",
       "      <th>SZ_36011</th>\n",
       "    </tr>\n",
       "  </thead>\n",
       "  <tbody>\n",
       "    <tr>\n",
       "      <th>0</th>\n",
       "      <td>8790</td>\n",
       "      <td>2</td>\n",
       "      <td>1</td>\n",
       "      <td>-60.0</td>\n",
       "      <td>-20.0</td>\n",
       "      <td>6.0</td>\n",
       "      <td>120</td>\n",
       "      <td>-21.00</td>\n",
       "      <td>0</td>\n",
       "      <td>3.3</td>\n",
       "      <td>...</td>\n",
       "      <td>0.895588</td>\n",
       "      <td>0.866927</td>\n",
       "      <td>1.000345</td>\n",
       "      <td>1.083360</td>\n",
       "      <td>1.033944</td>\n",
       "      <td>0.890641</td>\n",
       "      <td>0.746350</td>\n",
       "      <td>0.860990</td>\n",
       "      <td>0.699898</td>\n",
       "      <td>0.401434</td>\n",
       "    </tr>\n",
       "    <tr>\n",
       "      <th>1</th>\n",
       "      <td>8799</td>\n",
       "      <td>2</td>\n",
       "      <td>1</td>\n",
       "      <td>-60.0</td>\n",
       "      <td>-11.0</td>\n",
       "      <td>30.0</td>\n",
       "      <td>120</td>\n",
       "      <td>-12.00</td>\n",
       "      <td>0</td>\n",
       "      <td>20.5</td>\n",
       "      <td>...</td>\n",
       "      <td>0.128512</td>\n",
       "      <td>0.141584</td>\n",
       "      <td>0.138678</td>\n",
       "      <td>0.087841</td>\n",
       "      <td>0.079126</td>\n",
       "      <td>0.025384</td>\n",
       "      <td>0.067505</td>\n",
       "      <td>-0.051598</td>\n",
       "      <td>0.006501</td>\n",
       "      <td>0.070409</td>\n",
       "    </tr>\n",
       "    <tr>\n",
       "      <th>2</th>\n",
       "      <td>12224</td>\n",
       "      <td>2</td>\n",
       "      <td>1</td>\n",
       "      <td>-60.0</td>\n",
       "      <td>-8.0</td>\n",
       "      <td>13.0</td>\n",
       "      <td>120</td>\n",
       "      <td>-7.50</td>\n",
       "      <td>0</td>\n",
       "      <td>8.5</td>\n",
       "      <td>...</td>\n",
       "      <td>0.009078</td>\n",
       "      <td>-0.023774</td>\n",
       "      <td>-0.006766</td>\n",
       "      <td>0.009076</td>\n",
       "      <td>-0.015155</td>\n",
       "      <td>-0.015389</td>\n",
       "      <td>0.014666</td>\n",
       "      <td>-0.004905</td>\n",
       "      <td>-0.014225</td>\n",
       "      <td>0.013500</td>\n",
       "    </tr>\n",
       "    <tr>\n",
       "      <th>3</th>\n",
       "      <td>12233</td>\n",
       "      <td>2</td>\n",
       "      <td>1</td>\n",
       "      <td>-60.0</td>\n",
       "      <td>-3.0</td>\n",
       "      <td>30.0</td>\n",
       "      <td>120</td>\n",
       "      <td>-2.00</td>\n",
       "      <td>0</td>\n",
       "      <td>10.0</td>\n",
       "      <td>...</td>\n",
       "      <td>0.001998</td>\n",
       "      <td>-0.022745</td>\n",
       "      <td>0.031218</td>\n",
       "      <td>-0.214643</td>\n",
       "      <td>0.020953</td>\n",
       "      <td>0.060175</td>\n",
       "      <td>-0.098818</td>\n",
       "      <td>0.052542</td>\n",
       "      <td>-0.026954</td>\n",
       "      <td>-0.019320</td>\n",
       "    </tr>\n",
       "    <tr>\n",
       "      <th>4</th>\n",
       "      <td>12234</td>\n",
       "      <td>2</td>\n",
       "      <td>1</td>\n",
       "      <td>-60.0</td>\n",
       "      <td>-2.0</td>\n",
       "      <td>39.0</td>\n",
       "      <td>120</td>\n",
       "      <td>-1.00</td>\n",
       "      <td>0</td>\n",
       "      <td>12.0</td>\n",
       "      <td>...</td>\n",
       "      <td>0.193024</td>\n",
       "      <td>-0.020621</td>\n",
       "      <td>0.196557</td>\n",
       "      <td>0.332058</td>\n",
       "      <td>0.345042</td>\n",
       "      <td>0.281896</td>\n",
       "      <td>0.317190</td>\n",
       "      <td>0.327150</td>\n",
       "      <td>0.339630</td>\n",
       "      <td>0.317448</td>\n",
       "    </tr>\n",
       "    <tr>\n",
       "      <th>...</th>\n",
       "      <td>...</td>\n",
       "      <td>...</td>\n",
       "      <td>...</td>\n",
       "      <td>...</td>\n",
       "      <td>...</td>\n",
       "      <td>...</td>\n",
       "      <td>...</td>\n",
       "      <td>...</td>\n",
       "      <td>...</td>\n",
       "      <td>...</td>\n",
       "      <td>...</td>\n",
       "      <td>...</td>\n",
       "      <td>...</td>\n",
       "      <td>...</td>\n",
       "      <td>...</td>\n",
       "      <td>...</td>\n",
       "      <td>...</td>\n",
       "      <td>...</td>\n",
       "      <td>...</td>\n",
       "      <td>...</td>\n",
       "      <td>...</td>\n",
       "    </tr>\n",
       "    <tr>\n",
       "      <th>164</th>\n",
       "      <td>12233</td>\n",
       "      <td>19</td>\n",
       "      <td>1</td>\n",
       "      <td>0.0</td>\n",
       "      <td>0.0</td>\n",
       "      <td>20.0</td>\n",
       "      <td>89</td>\n",
       "      <td>0.65</td>\n",
       "      <td>0</td>\n",
       "      <td>9.2</td>\n",
       "      <td>...</td>\n",
       "      <td>0.016741</td>\n",
       "      <td>0.099218</td>\n",
       "      <td>-0.023653</td>\n",
       "      <td>0.102346</td>\n",
       "      <td>0.103549</td>\n",
       "      <td>-0.060198</td>\n",
       "      <td>0.098502</td>\n",
       "      <td>0.002803</td>\n",
       "      <td>-0.011623</td>\n",
       "      <td>0.046087</td>\n",
       "    </tr>\n",
       "    <tr>\n",
       "      <th>165</th>\n",
       "      <td>8793</td>\n",
       "      <td>19</td>\n",
       "      <td>2</td>\n",
       "      <td>-60.0</td>\n",
       "      <td>-37.0</td>\n",
       "      <td>28.5</td>\n",
       "      <td>120</td>\n",
       "      <td>0.00</td>\n",
       "      <td>0</td>\n",
       "      <td>2.6</td>\n",
       "      <td>...</td>\n",
       "      <td>-0.588621</td>\n",
       "      <td>-0.241770</td>\n",
       "      <td>0.429002</td>\n",
       "      <td>0.486332</td>\n",
       "      <td>0.377403</td>\n",
       "      <td>0.214010</td>\n",
       "      <td>0.007618</td>\n",
       "      <td>0.050616</td>\n",
       "      <td>-0.045414</td>\n",
       "      <td>0.133745</td>\n",
       "    </tr>\n",
       "    <tr>\n",
       "      <th>166</th>\n",
       "      <td>8797</td>\n",
       "      <td>19</td>\n",
       "      <td>2</td>\n",
       "      <td>-60.0</td>\n",
       "      <td>-53.0</td>\n",
       "      <td>40.0</td>\n",
       "      <td>120</td>\n",
       "      <td>0.00</td>\n",
       "      <td>0</td>\n",
       "      <td>3.3</td>\n",
       "      <td>...</td>\n",
       "      <td>0.074535</td>\n",
       "      <td>-0.049774</td>\n",
       "      <td>-0.050855</td>\n",
       "      <td>0.014002</td>\n",
       "      <td>0.137230</td>\n",
       "      <td>0.119934</td>\n",
       "      <td>0.122096</td>\n",
       "      <td>0.004272</td>\n",
       "      <td>0.018324</td>\n",
       "      <td>0.037781</td>\n",
       "    </tr>\n",
       "    <tr>\n",
       "      <th>167</th>\n",
       "      <td>12227</td>\n",
       "      <td>19</td>\n",
       "      <td>2</td>\n",
       "      <td>-60.0</td>\n",
       "      <td>-3.0</td>\n",
       "      <td>46.0</td>\n",
       "      <td>120</td>\n",
       "      <td>0.40</td>\n",
       "      <td>0</td>\n",
       "      <td>8.8</td>\n",
       "      <td>...</td>\n",
       "      <td>0.420122</td>\n",
       "      <td>0.379910</td>\n",
       "      <td>0.380465</td>\n",
       "      <td>0.387676</td>\n",
       "      <td>0.385735</td>\n",
       "      <td>0.359945</td>\n",
       "      <td>0.362996</td>\n",
       "      <td>0.341087</td>\n",
       "      <td>0.320843</td>\n",
       "      <td>0.318070</td>\n",
       "    </tr>\n",
       "    <tr>\n",
       "      <th>168</th>\n",
       "      <td>12228</td>\n",
       "      <td>19</td>\n",
       "      <td>2</td>\n",
       "      <td>0.0</td>\n",
       "      <td>0.0</td>\n",
       "      <td>29.0</td>\n",
       "      <td>120</td>\n",
       "      <td>0.00</td>\n",
       "      <td>0</td>\n",
       "      <td>9.0</td>\n",
       "      <td>...</td>\n",
       "      <td>0.071958</td>\n",
       "      <td>0.059548</td>\n",
       "      <td>0.035383</td>\n",
       "      <td>0.062810</td>\n",
       "      <td>0.064985</td>\n",
       "      <td>0.055623</td>\n",
       "      <td>0.052792</td>\n",
       "      <td>0.072382</td>\n",
       "      <td>0.046040</td>\n",
       "      <td>0.044733</td>\n",
       "    </tr>\n",
       "  </tbody>\n",
       "</table>\n",
       "<p>169 rows × 36013 columns</p>\n",
       "</div>"
      ],
      "text/plain": [
       "     Animal  Session  group  BaseStart  BaseEnd  NoSzstart2  NoSzend2  \\\n",
       "0      8790        2      1      -60.0    -20.0         6.0       120   \n",
       "1      8799        2      1      -60.0    -11.0        30.0       120   \n",
       "2     12224        2      1      -60.0     -8.0        13.0       120   \n",
       "3     12233        2      1      -60.0     -3.0        30.0       120   \n",
       "4     12234        2      1      -60.0     -2.0        39.0       120   \n",
       "..      ...      ...    ...        ...      ...         ...       ...   \n",
       "164   12233       19      1        0.0      0.0        20.0        89   \n",
       "165    8793       19      2      -60.0    -37.0        28.5       120   \n",
       "166    8797       19      2      -60.0    -53.0        40.0       120   \n",
       "167   12227       19      2      -60.0     -3.0        46.0       120   \n",
       "168   12228       19      2        0.0      0.0        29.0       120   \n",
       "\n",
       "     SzArtifactStart  SzArtifactEnd  SeizureStart  ...  SZ_36002  SZ_36003  \\\n",
       "0             -21.00              0           3.3  ...  0.895588  0.866927   \n",
       "1             -12.00              0          20.5  ...  0.128512  0.141584   \n",
       "2              -7.50              0           8.5  ...  0.009078 -0.023774   \n",
       "3              -2.00              0          10.0  ...  0.001998 -0.022745   \n",
       "4              -1.00              0          12.0  ...  0.193024 -0.020621   \n",
       "..               ...            ...           ...  ...       ...       ...   \n",
       "164             0.65              0           9.2  ...  0.016741  0.099218   \n",
       "165             0.00              0           2.6  ... -0.588621 -0.241770   \n",
       "166             0.00              0           3.3  ...  0.074535 -0.049774   \n",
       "167             0.40              0           8.8  ...  0.420122  0.379910   \n",
       "168             0.00              0           9.0  ...  0.071958  0.059548   \n",
       "\n",
       "     SZ_36004  SZ_36005  SZ_36006  SZ_36007  SZ_36008  SZ_36009  SZ_36010  \\\n",
       "0    1.000345  1.083360  1.033944  0.890641  0.746350  0.860990  0.699898   \n",
       "1    0.138678  0.087841  0.079126  0.025384  0.067505 -0.051598  0.006501   \n",
       "2   -0.006766  0.009076 -0.015155 -0.015389  0.014666 -0.004905 -0.014225   \n",
       "3    0.031218 -0.214643  0.020953  0.060175 -0.098818  0.052542 -0.026954   \n",
       "4    0.196557  0.332058  0.345042  0.281896  0.317190  0.327150  0.339630   \n",
       "..        ...       ...       ...       ...       ...       ...       ...   \n",
       "164 -0.023653  0.102346  0.103549 -0.060198  0.098502  0.002803 -0.011623   \n",
       "165  0.429002  0.486332  0.377403  0.214010  0.007618  0.050616 -0.045414   \n",
       "166 -0.050855  0.014002  0.137230  0.119934  0.122096  0.004272  0.018324   \n",
       "167  0.380465  0.387676  0.385735  0.359945  0.362996  0.341087  0.320843   \n",
       "168  0.035383  0.062810  0.064985  0.055623  0.052792  0.072382  0.046040   \n",
       "\n",
       "     SZ_36011  \n",
       "0    0.401434  \n",
       "1    0.070409  \n",
       "2    0.013500  \n",
       "3   -0.019320  \n",
       "4    0.317448  \n",
       "..        ...  \n",
       "164  0.046087  \n",
       "165  0.133745  \n",
       "166  0.037781  \n",
       "167  0.318070  \n",
       "168  0.044733  \n",
       "\n",
       "[169 rows x 36013 columns]"
      ]
     },
     "execution_count": 392,
     "metadata": {},
     "output_type": "execute_result"
    }
   ],
   "source": [
    "dataset"
   ]
  },
  {
   "cell_type": "code",
   "execution_count": 393,
   "metadata": {
    "execution": {
     "iopub.execute_input": "2025-06-15T20:14:26.148449Z",
     "iopub.status.busy": "2025-06-15T20:14:26.148156Z",
     "iopub.status.idle": "2025-06-15T20:14:26.517241Z",
     "shell.execute_reply": "2025-06-15T20:14:26.516276Z",
     "shell.execute_reply.started": "2025-06-15T20:14:26.148421Z"
    },
    "trusted": true
   },
   "outputs": [],
   "source": [
    "# Design the bandpass filter\n",
    "b, a = butter(8, [4, 40], \n",
    "              btype='bandpass', fs=200)\n",
    "\n",
    "# Apply zero-phase filtering\n",
    "rawlfp = dataset.loc[:, \"SZ_11\":]\n",
    "rawlfp = zscore(rawlfp, axis=1)\n",
    "for lfp_in in range(rawlfp.shape[0]):\n",
    "    min_lfp = np.min(rawlfp[lfp_in,:])\n",
    "    max_lfp = np.max(rawlfp[lfp_in,:])\n",
    "    rawlfp[lfp_in,:] = rawlfp[lfp_in,:] - min_lfp / (max_lfp - min_lfp) * 10\n",
    "fast = filtfilt(b, a, rawlfp)\n",
    "\n"
   ]
  },
  {
   "cell_type": "code",
   "execution_count": 394,
   "metadata": {},
   "outputs": [
    {
     "name": "stdout",
     "output_type": "stream",
     "text": [
      "float64 (169, 36001)\n",
      "(169, 36001)\n"
     ]
    }
   ],
   "source": [
    "print(fast.dtype, fast.shape)\n",
    "print(rawlfp.shape)"
   ]
  },
  {
   "cell_type": "code",
   "execution_count": 395,
   "metadata": {
    "execution": {
     "iopub.execute_input": "2025-06-15T20:14:26.581758Z",
     "iopub.status.busy": "2025-06-15T20:14:26.581489Z",
     "iopub.status.idle": "2025-06-15T20:14:26.694159Z",
     "shell.execute_reply": "2025-06-15T20:14:26.693266Z",
     "shell.execute_reply.started": "2025-06-15T20:14:26.581737Z"
    },
    "trusted": true
   },
   "outputs": [],
   "source": [
    "# Compute the multitaper spectrogram\n",
    "fs = 200\n",
    "psdWindowStep = 0.2\n",
    "freqs, times, psd = multitaper_spectrogram(fast[1,:], fs, time_step=psdWindowStep, \n",
    "                                           window_length=1.0, NW=4)\n"
   ]
  },
  {
   "cell_type": "code",
   "execution_count": 396,
   "metadata": {
    "execution": {
     "iopub.execute_input": "2025-06-15T20:14:26.707758Z",
     "iopub.status.busy": "2025-06-15T20:14:26.707424Z",
     "iopub.status.idle": "2025-06-15T20:14:26.723848Z",
     "shell.execute_reply": "2025-06-15T20:14:26.722824Z",
     "shell.execute_reply.started": "2025-06-15T20:14:26.707730Z"
    },
    "trusted": true
   },
   "outputs": [],
   "source": [
    "low_freq = 5   # Hz\n",
    "high_freq = 35 # Hz\n",
    "def bandpass_filter_spectrogram(freqs, psd, low_freq, high_freq):\n",
    "    \"\"\"Extract only the desired frequency range from spectrogram\"\"\"\n",
    "    # Find frequency indices\n",
    "    freq_indices = (freqs >= low_freq) & (freqs <= high_freq)\n",
    "    \n",
    "    # Extract bandpass frequencies and PSD\n",
    "    freqs_bp = freqs[freq_indices]\n",
    "    psd_bp = psd[freq_indices,:]\n",
    "    \n",
    "    return freqs_bp, psd_bp\n"
   ]
  },
  {
   "cell_type": "code",
   "execution_count": 397,
   "metadata": {},
   "outputs": [],
   "source": [
    "def zscorepsd_data(datapsd):\n",
    "    datapsd = zscore(datapsd, axis=None)\n",
    "    min_psd = np.min(datapsd)\n",
    "    max_psd = np.max(datapsd)\n",
    "    datapsd = datapsd - min_psd / (max_psd - min_psd) * 10\n",
    "    return datapsd"
   ]
  },
  {
   "cell_type": "code",
   "execution_count": 398,
   "metadata": {
    "execution": {
     "iopub.execute_input": "2025-06-15T20:14:26.725095Z",
     "iopub.status.busy": "2025-06-15T20:14:26.724764Z",
     "iopub.status.idle": "2025-06-15T20:14:27.457310Z",
     "shell.execute_reply": "2025-06-15T20:14:27.456272Z",
     "shell.execute_reply.started": "2025-06-15T20:14:26.725044Z"
    },
    "trusted": true
   },
   "outputs": [
    {
     "data": {
      "image/png": "[encoded data removed]",
      "text/plain": [
       "<Figure size 640x480 with 2 Axes>"
      ]
     },
     "metadata": {},
     "output_type": "display_data"
    },
    {
     "name": "stdout",
     "output_type": "stream",
     "text": [
      "(129, 896) (129,) (896,)\n",
      "(38, 896) (38,) (896,)\n"
     ]
    },
    {
     "data": {
      "image/png": "[encoded data removed]",
      "text/plain": [
       "<Figure size 640x480 with 2 Axes>"
      ]
     },
     "metadata": {},
     "output_type": "display_data"
    },
    {
     "data": {
      "image/png": "[encoded data removed]",
      "text/plain": [
       "<Figure size 640x480 with 2 Axes>"
      ]
     },
     "metadata": {},
     "output_type": "display_data"
    }
   ],
   "source": [
    "# Parameters\n",
    "fs = 200\n",
    "freq_indices = (freqs >= low_freq) & (freqs <= high_freq)\n",
    "# Get dimensions from first row to initialize the 3D matrix\n",
    "freqs, times, psd_temp = multitaper_spectrogram(fast[1,:], fs, time_step=psdWindowStep, \n",
    "                                                window_length=1.0, NW=4)\n",
    "\n",
    "plt.pcolormesh(times, freqs, psd_temp, cmap = 'turbo', shading='auto')\n",
    "plt.colorbar()\n",
    "plt.show()\n",
    "print(psd_temp.shape, freqs.shape, times.shape)\n",
    "#print(times,freqs)\n",
    "freqsFilt, psd_tempFilt = bandpass_filter_spectrogram(freqs, psd_temp, low_freq, high_freq) \n",
    "print(psd_tempFilt.shape, freqsFilt.shape, times.shape)\n",
    "#print(times, freqsFilt)\n",
    "plt.pcolormesh(times, freqsFilt, psd_tempFilt, cmap = 'turbo', shading='auto')\n",
    "plt.colorbar()\n",
    "plt.show()\n",
    "psd_tempFilt = zscorepsd_data(psd_tempFilt)\n",
    "\n",
    "plt.pcolormesh(times, freqsFilt, psd_tempFilt, cmap = 'turbo', shading='auto')\n",
    "plt.colorbar()\n",
    "plt.show()\n"
   ]
  },
  {
   "cell_type": "code",
   "execution_count": 399,
   "metadata": {
    "execution": {
     "iopub.execute_input": "2025-06-15T20:14:27.473504Z",
     "iopub.status.busy": "2025-06-15T20:14:27.473095Z",
     "iopub.status.idle": "2025-06-15T20:14:38.469626Z",
     "shell.execute_reply": "2025-06-15T20:14:38.468690Z",
     "shell.execute_reply.started": "2025-06-15T20:14:27.473480Z"
    },
    "trusted": true
   },
   "outputs": [
    {
     "name": "stdout",
     "output_type": "stream",
     "text": [
      "Processing 169 sessions...\n",
      "PSD matrix shape will be: (169, 38, 896)\n",
      "Processing session 1/169\n",
      "Processing session 2/169\n",
      "Processing session 3/169\n",
      "Processing session 4/169\n",
      "Processing session 5/169\n",
      "Processing session 6/169\n",
      "Processing session 7/169\n",
      "Processing session 8/169\n",
      "Processing session 9/169\n",
      "Processing session 10/169\n",
      "Processing session 11/169\n",
      "Processing session 12/169\n",
      "Processing session 13/169\n",
      "Processing session 14/169\n",
      "Processing session 15/169\n",
      "Processing session 16/169\n",
      "Processing session 17/169\n",
      "Processing session 18/169\n",
      "Processing session 19/169\n",
      "Processing session 20/169\n",
      "Processing session 21/169\n",
      "Processing session 22/169\n",
      "Processing session 23/169\n",
      "Processing session 24/169\n",
      "Processing session 25/169\n",
      "Processing session 26/169\n",
      "Processing session 27/169\n",
      "Processing session 28/169\n",
      "Processing session 29/169\n",
      "Processing session 30/169\n",
      "Processing session 31/169\n",
      "Processing session 32/169\n",
      "Processing session 33/169\n",
      "Processing session 34/169\n",
      "Processing session 35/169\n",
      "Processing session 36/169\n",
      "Processing session 37/169\n",
      "Processing session 38/169\n",
      "Processing session 39/169\n",
      "Processing session 40/169\n",
      "Processing session 41/169\n",
      "Processing session 42/169\n",
      "Processing session 43/169\n",
      "Processing session 44/169\n",
      "Processing session 45/169\n",
      "Processing session 46/169\n",
      "Processing session 47/169\n",
      "Processing session 48/169\n",
      "Processing session 49/169\n",
      "Processing session 50/169\n",
      "Processing session 51/169\n",
      "Processing session 52/169\n",
      "Processing session 53/169\n",
      "Processing session 54/169\n",
      "Processing session 55/169\n",
      "Processing session 56/169\n",
      "Processing session 57/169\n",
      "Processing session 58/169\n",
      "Processing session 59/169\n",
      "Processing session 60/169\n",
      "Processing session 61/169\n",
      "Processing session 62/169\n",
      "Processing session 63/169\n",
      "Processing session 64/169\n",
      "Processing session 65/169\n",
      "Processing session 66/169\n",
      "Processing session 67/169\n",
      "Processing session 68/169\n",
      "Processing session 69/169\n",
      "Processing session 70/169\n",
      "Processing session 71/169\n",
      "Processing session 72/169\n",
      "Processing session 73/169\n",
      "Processing session 74/169\n",
      "Processing session 75/169\n",
      "Processing session 76/169\n",
      "Processing session 77/169\n",
      "Processing session 78/169\n",
      "Processing session 79/169\n",
      "Processing session 80/169\n",
      "Processing session 81/169\n",
      "Processing session 82/169\n",
      "Processing session 83/169\n",
      "Processing session 84/169\n",
      "Processing session 85/169\n",
      "Processing session 86/169\n",
      "Processing session 87/169\n",
      "Processing session 88/169\n",
      "Processing session 89/169\n",
      "Processing session 90/169\n",
      "Processing session 91/169\n",
      "Processing session 92/169\n",
      "Processing session 93/169\n",
      "Processing session 94/169\n",
      "Processing session 95/169\n",
      "Processing session 96/169\n",
      "Processing session 97/169\n",
      "Processing session 98/169\n",
      "Processing session 99/169\n",
      "Processing session 100/169\n",
      "Processing session 101/169\n",
      "Processing session 102/169\n",
      "Processing session 103/169\n",
      "Processing session 104/169\n",
      "Processing session 105/169\n",
      "Processing session 106/169\n",
      "Processing session 107/169\n",
      "Processing session 108/169\n",
      "Processing session 109/169\n",
      "Processing session 110/169\n",
      "Processing session 111/169\n",
      "Processing session 112/169\n",
      "Processing session 113/169\n",
      "Processing session 114/169\n",
      "Processing session 115/169\n",
      "Processing session 116/169\n",
      "Processing session 117/169\n",
      "Processing session 118/169\n",
      "Processing session 119/169\n",
      "Processing session 120/169\n",
      "Processing session 121/169\n",
      "Processing session 122/169\n",
      "Processing session 123/169\n",
      "Processing session 124/169\n",
      "Processing session 125/169\n",
      "Processing session 126/169\n",
      "Processing session 127/169\n",
      "Processing session 128/169\n",
      "Processing session 129/169\n",
      "Processing session 130/169\n",
      "Processing session 131/169\n",
      "Processing session 132/169\n",
      "Processing session 133/169\n",
      "Processing session 134/169\n",
      "Processing session 135/169\n",
      "Processing session 136/169\n",
      "Processing session 137/169\n",
      "Processing session 138/169\n",
      "Processing session 139/169\n",
      "Processing session 140/169\n",
      "Processing session 141/169\n",
      "Processing session 142/169\n",
      "Processing session 143/169\n",
      "Processing session 144/169\n",
      "Processing session 145/169\n",
      "Processing session 146/169\n",
      "Processing session 147/169\n",
      "Processing session 148/169\n",
      "Processing session 149/169\n",
      "Processing session 150/169\n",
      "Processing session 151/169\n",
      "Processing session 152/169\n",
      "Processing session 153/169\n",
      "Processing session 154/169\n",
      "Processing session 155/169\n",
      "Processing session 156/169\n",
      "Processing session 157/169\n",
      "Processing session 158/169\n",
      "Processing session 159/169\n",
      "Processing session 160/169\n",
      "Processing session 161/169\n",
      "Processing session 162/169\n",
      "Processing session 163/169\n",
      "Processing session 164/169\n",
      "Processing session 165/169\n",
      "Processing session 166/169\n",
      "Processing session 167/169\n",
      "Processing session 168/169\n",
      "Processing session 169/169\n",
      "Done! 3D PSD matrix created.\n",
      "Final shape: (169, 38, 896)\n",
      "Shape interpretation: (sessions=169, freqs=38, times=896)\n"
     ]
    }
   ],
   "source": [
    "# Initialize 3D matrix: (n_sessions, n_freqs, n_times)\n",
    "n_sessions = fast.shape[0]\n",
    "n_freqs = len(freqsFilt)\n",
    "n_times = len(times)\n",
    "psd_3d = np.zeros((n_sessions, n_freqs, n_times))\n",
    "\n",
    "print(f\"Processing {n_sessions} sessions...\")\n",
    "print(f\"PSD matrix shape will be: ({n_sessions}, {n_freqs}, {n_times})\")\n",
    "\n",
    "# Loop through all rows (sessions)\n",
    "for session in range(n_sessions):\n",
    "    print(f\"Processing session {session + 1}/{n_sessions}\")\n",
    "    \n",
    "    # Get spectrogram for this session\n",
    "    freqs, times,  psd = multitaper_spectrogram(fast[session,:], fs, time_step=psdWindowStep, \n",
    "                                               window_length=1.0, NW=4)\n",
    "    \n",
    "    # Convert to log scale\n",
    "    #psd = np.interp(psd, (psd.min(), psd.max()), (0, 10))\n",
    "    #psd_log = 10 * np.log10(psd)\n",
    "    #psd_log = np.interp(psd_log, (psd_log.min(), psd_log.max()), (0, 10))\n",
    "    \n",
    "    freqs, psd = bandpass_filter_spectrogram(freqs, psd, low_freq, high_freq)\n",
    "    psd = zscorepsd_data(psd)\n",
    "    #psd_log = np.interp(psd_log, (psd_log.min(), psd_log.max()), (0, 100))\n",
    "    # Store in 3D matrix\n",
    "    \n",
    "    psd_3d[session, :, :] = psd\n",
    "\n",
    "print(\"Done! 3D PSD matrix created.\")\n",
    "print(f\"Final shape: {psd_3d.shape}\")\n",
    "print(f\"Shape interpretation: (sessions={psd_3d.shape[0]}, freqs={psd_3d.shape[1]}, times={psd_3d.shape[2]})\")"
   ]
  },
  {
   "cell_type": "code",
   "execution_count": 400,
   "metadata": {
    "execution": {
     "iopub.execute_input": "2025-06-15T20:37:01.326431Z",
     "iopub.status.busy": "2025-06-15T20:37:01.325605Z",
     "iopub.status.idle": "2025-06-15T20:37:02.476612Z",
     "shell.execute_reply": "2025-06-15T20:37:02.475750Z",
     "shell.execute_reply.started": "2025-06-15T20:37:01.326401Z"
    },
    "trusted": true
   },
   "outputs": [
    {
     "data": {
      "image/png": "[encoded data removed]",
      "text/plain": [
       "<Figure size 1200x800 with 8 Axes>"
      ]
     },
     "metadata": {},
     "output_type": "display_data"
    }
   ],
   "source": [
    "# Example: Plot a few channels\n",
    "fig, axes = plt.subplots(2, 2, figsize=(12, 8))\n",
    "axes = axes.flatten()\n",
    "\n",
    "for i in range(min(4, n_sessions)):  # Plot first 4 channels\n",
    "    im = axes[i].pcolormesh(times, freqs, psd_3d[i], cmap = 'turbo', shading='auto')\n",
    "    axes[i].set_title(f'Session {i}')\n",
    "    axes[i].set_xlabel('Time (s)')\n",
    "    axes[i].set_ylabel('Frequency (Hz)')\n",
    "    plt.colorbar(im, ax=axes[i], label='PSD')\n",
    "\n",
    "plt.tight_layout()\n",
    "plt.show()\n"
   ]
  },
  {
   "cell_type": "code",
   "execution_count": 401,
   "metadata": {
    "execution": {
     "iopub.execute_input": "2025-06-15T20:14:39.720547Z",
     "iopub.status.busy": "2025-06-15T20:14:39.720280Z",
     "iopub.status.idle": "2025-06-15T20:14:39.736695Z",
     "shell.execute_reply": "2025-06-15T20:14:39.735439Z",
     "shell.execute_reply.started": "2025-06-15T20:14:39.720527Z"
    },
    "trusted": true
   },
   "outputs": [
    {
     "name": "stdout",
     "output_type": "stream",
     "text": [
      "(169, 38, 896)\n"
     ]
    }
   ],
   "source": [
    "#times -= 60\n",
    "psd_3d[2,:,:].min()\n",
    "print(psd_3d.shape)"
   ]
  },
  {
   "cell_type": "code",
   "execution_count": 402,
   "metadata": {},
   "outputs": [],
   "source": [
    "import math\n",
    "def time2index(time, start, psdWindowStep):\n",
    "    return math.floor((time - start) / psdWindowStep)"
   ]
  },
  {
   "cell_type": "code",
   "execution_count": 403,
   "metadata": {},
   "outputs": [],
   "source": [
    "start = -60\n",
    "times_to_convert = [\"BaseStart\", \"BaseEnd\",\"SeizureStart\", \"SeizureEnd\", \"SzArtifactStart\", \"SzArtifactEnd\"]\n",
    "for column_name in times_to_convert:\n",
    "    dataset[column_name] = dataset[column_name].apply(lambda x: time2index(x, start=start, psdWindowStep=psdWindowStep))\n",
    "    #dataset[column_name] = dataset[column_name].astype(int)"
   ]
  },
  {
   "cell_type": "code",
   "execution_count": 404,
   "metadata": {},
   "outputs": [
    {
     "name": "stdout",
     "output_type": "stream",
     "text": [
      "int64\n",
      "int64\n",
      "(169, 38, 896)\n"
     ]
    }
   ],
   "source": [
    "print(metadata.Animal.dtype)\n",
    "print(dataset.loc[:,\"Animal\"].dtype)\n",
    "print(psd_3d.shape)"
   ]
  },
  {
   "cell_type": "code",
   "execution_count": 405,
   "metadata": {},
   "outputs": [],
   "source": [
    "def extract_samples(idx, time_row):        \n",
    "    time_row = time_row.astype(int)\n",
    "    base = psd_3d[idx, :, time_row[\"BaseStart\"]: time_row[\"BaseEnd\"]]\n",
    "    seizure = psd_3d[idx, :, time_row[\"SeizureStart\"]: time_row[\"SeizureEnd\"]]\n",
    "    artifact = psd_3d[idx, :, time_row[\"SzArtifactStart\"]: time_row[\"SzArtifactEnd\"]]\n",
    "    return base.T, seizure.T, artifact.T"
   ]
  },
  {
   "cell_type": "code",
   "execution_count": null,
   "metadata": {},
   "outputs": [],
   "source": [
    "feature_dim = psd_3d.shape[1] \n",
    "animalID = 8790\n",
    "all_base = np.empty((0, feature_dim))\n",
    "all_seizure = np.empty((0, feature_dim))\n",
    "all_artifact = np.empty((0, feature_dim))\n",
    "# animal id = 8790, 8799, 8800, 8798, 8797, 12233, 12234, 12226, 12227, 12228, 12229, 12224\n",
    "\n",
    "for i in range(len(dataset)):\n",
    "    #if dataset.loc[i,\"Animal\"]==animalID:\n",
    "    base, seizure, artifact = extract_samples(i, dataset.loc[i, times_to_convert])\n",
    "    all_base = np.concatenate((all_base, base), axis=0)\n",
    "    all_seizure = np.concatenate((all_seizure, seizure), axis=0)\n",
    "    all_artifact = np.concatenate((all_artifact, artifact), axis=0)"
   ]
  },
  {
   "cell_type": "code",
   "execution_count": 407,
   "metadata": {},
   "outputs": [],
   "source": [
    "BASE_LABEL = 0\n",
    "ARTIFACT_LABEL = 1\n",
    "SEIZURE_LABEL = 2"
   ]
  },
  {
   "cell_type": "code",
   "execution_count": 408,
   "metadata": {
    "trusted": true
   },
   "outputs": [],
   "source": [
    "base_label_arr = np.ones(shape=(len(all_base), 1)) * BASE_LABEL\n",
    "artifact_label_arr = np.ones(shape=(len(all_artifact), 1)) * ARTIFACT_LABEL\n",
    "seizure_label_arr = np.ones(shape=(len(all_seizure), 1)) * SEIZURE_LABEL"
   ]
  },
  {
   "cell_type": "code",
   "execution_count": 409,
   "metadata": {},
   "outputs": [],
   "source": [
    "all_base = np.concatenate((all_base, base_label_arr), axis=1)\n",
    "all_artifact = np.concatenate((all_artifact, artifact_label_arr), axis=1)\n",
    "all_seizure = np.concatenate((all_seizure, seizure_label_arr), axis=1)"
   ]
  },
  {
   "cell_type": "code",
   "execution_count": 410,
   "metadata": {},
   "outputs": [
    {
     "name": "stdout",
     "output_type": "stream",
     "text": [
      "(0, 39) (0, 39)\n"
     ]
    }
   ],
   "source": [
    "print(all_seizure.shape,all_base.shape)"
   ]
  },
  {
   "cell_type": "code",
   "execution_count": 411,
   "metadata": {},
   "outputs": [
    {
     "data": {
      "text/plain": [
       "(0, 39)"
      ]
     },
     "execution_count": 411,
     "metadata": {},
     "output_type": "execute_result"
    }
   ],
   "source": [
    "all_data = np.concatenate((all_base, all_artifact, all_seizure), axis=0)\n",
    "all_data.shape"
   ]
  },
  {
   "cell_type": "code",
   "execution_count": 412,
   "metadata": {},
   "outputs": [
    {
     "data": {
      "text/plain": [
       "(0, 39)"
      ]
     },
     "execution_count": 412,
     "metadata": {},
     "output_type": "execute_result"
    }
   ],
   "source": [
    "np.random.shuffle(all_data)\n",
    "all_data.shape"
   ]
  },
  {
   "cell_type": "markdown",
   "metadata": {},
   "source": [
    "# Modelling"
   ]
  },
  {
   "cell_type": "markdown",
   "metadata": {},
   "source": [
    "## Imports"
   ]
  },
  {
   "cell_type": "code",
   "execution_count": 413,
   "metadata": {},
   "outputs": [],
   "source": [
    "import torch\n",
    "import torch.nn as nn\n",
    "from torch.utils.data import DataLoader, TensorDataset\n",
    "from torchvision import datasets, transforms\n",
    "from sklearn.model_selection import train_test_split\n",
    "from sklearn.preprocessing import StandardScaler, LabelEncoder\n",
    "from sklearn.datasets import load_iris\n",
    "import scipy\n",
    "from tqdm import tqdm\n",
    "import numpy as np\n",
    "import pandas as pd\n",
    "import plotly.express as px\n",
    "import plotly.graph_objects as go\n",
    "from plotly.subplots import make_subplots\n",
    "import random\n",
    "import math\n",
    "import copy\n"
   ]
  },
  {
   "cell_type": "markdown",
   "metadata": {},
   "source": [
    "## Helper Functions"
   ]
  },
  {
   "cell_type": "code",
   "execution_count": 414,
   "metadata": {},
   "outputs": [],
   "source": [
    "def plot_train_val_test_accuracy(train_acc, val_acc, test_acc):\n",
    "  epochs = list(range(1, len(train_acc) + 1))\n",
    "\n",
    "    # Create the figure\n",
    "  fig = go.Figure()\n",
    "\n",
    "    # Add traces\n",
    "  fig.add_trace(\n",
    "        go.Scatter(\n",
    "            x=epochs,\n",
    "            y=train_acc,\n",
    "            name=\"Train Accuracy\",\n",
    "            mode='lines',\n",
    "            line=dict(color='#8b5cf6', width=2),\n",
    "            hovertemplate=\"Epoch %{x}<br>Accuracy: %{y:.4f}<extra></extra>\"\n",
    "        )\n",
    "    )\n",
    "\n",
    "  fig.add_trace(\n",
    "        go.Scatter(\n",
    "            x=epochs,\n",
    "            y=val_acc,\n",
    "            name=\"Validation Accuracyy\",\n",
    "            mode='lines',\n",
    "            line=dict(color='#22c55e', width=2),\n",
    "            hovertemplate=\"Epoch %{x}<br>Accuracy: %{y:.4f}<extra></extra>\"\n",
    "        )\n",
    "    )\n",
    "\n",
    "  fig.add_trace(\n",
    "        go.Scatter(\n",
    "            x=epochs,\n",
    "            y=test_acc,\n",
    "            name=\"Test Accuracyy\",\n",
    "            mode='lines',\n",
    "            line=dict(color='#800080', width=2),\n",
    "            hovertemplate=\"Epoch %{x}<br>Accuracy: %{y:.4f}<extra></extra>\"\n",
    "        )\n",
    "    )\n",
    "\n",
    "\n",
    "    # Update layout\n",
    "  fig.update_layout(\n",
    "        title=dict(\n",
    "            text=\"Training, Validation and Test Accuracy over Epochs\",\n",
    "            x=0.5,\n",
    "            y=0.95,\n",
    "            xanchor='center',\n",
    "            yanchor='top'\n",
    "        ),\n",
    "        xaxis_title=\"Epochs\",\n",
    "        yaxis_title=\"Accuracy\",\n",
    "        hovermode='x unified',\n",
    "        template='plotly_white',\n",
    "        xaxis=dict(\n",
    "            tickmode='linear',\n",
    "            tick0=1,\n",
    "            dtick=max(1, len(epochs) // 10)  # Show ~10 ticks on x-axis\n",
    "        ),\n",
    "        legend=dict(\n",
    "            yanchor=\"top\",\n",
    "            y=0.99,\n",
    "            xanchor=\"right\",\n",
    "            x=0.99\n",
    "        )\n",
    "    )\n",
    "\n",
    "  fig.show()\n"
   ]
  },
  {
   "cell_type": "code",
   "execution_count": 415,
   "metadata": {},
   "outputs": [],
   "source": [
    "def set_seed(seed=None, seed_torch=True):\n",
    "  \"\"\"\n",
    "  Function that controls randomness.\n",
    "  NumPy and random modules must be imported.\n",
    "\n",
    "  Args:\n",
    "    seed : Integer\n",
    "      A non-negative integer that defines the random state. Default is `None`.\n",
    "    seed_torch : Boolean\n",
    "      If `True` sets the random seed for pytorch tensors, so pytorch module\n",
    "      must be imported. Default is `True`.\n",
    "\n",
    "  Returns:\n",
    "    Nothing.\n",
    "  \"\"\"\n",
    "  if seed is None:\n",
    "    seed = np.random.choice(2 ** 32)\n",
    "  random.seed(seed)\n",
    "  np.random.seed(seed)\n",
    "  if seed_torch:\n",
    "    torch.manual_seed(seed)\n",
    "    torch.cuda.manual_seed_all(seed)\n",
    "    torch.cuda.manual_seed(seed)\n",
    "    torch.backends.cudnn.benchmark = False\n",
    "    torch.backends.cudnn.deterministic = True\n",
    "\n",
    "  print(f'Random seed {seed} has been set.')\n",
    "\n",
    "\n",
    "# In case that `DataLoader` is used\n",
    "def seed_worker(worker_id):\n",
    "  \"\"\"\n",
    "  DataLoader will reseed workers following randomness in\n",
    "  multi-process data loading algorithm.\n",
    "\n",
    "  Args:\n",
    "    worker_id: integer\n",
    "      ID of subprocess to seed. 0 means that\n",
    "      the data will be loaded in the main process\n",
    "      Refer: https://pytorch.org/docs/stable/data.html#data-loading-randomness for more details\n",
    "\n",
    "  Returns:\n",
    "    Nothing\n",
    "  \"\"\"\n",
    "  worker_seed = torch.initial_seed() % 2**32\n",
    "  np.random.seed(worker_seed)\n",
    "  random.seed(worker_seed)"
   ]
  },
  {
   "cell_type": "code",
   "execution_count": 416,
   "metadata": {},
   "outputs": [],
   "source": [
    "# @title Set device (GPU or CPU).\n",
    "# especially if torch modules used.\n",
    "\n",
    "# Inform the user if the notebook uses GPU or CPU.\n",
    "\n",
    "def set_device():\n",
    "  \"\"\"\n",
    "  Set the device. CUDA if available, CPU otherwise\n",
    "\n",
    "  Args:\n",
    "    None\n",
    "\n",
    "  Returns:\n",
    "    Nothing\n",
    "  \"\"\"\n",
    "  device = \"cuda\" if torch.cuda.is_available() else \"cpu\"\n",
    "  if device != \"cuda\":\n",
    "    print(\"WARNING: For this notebook to perform best, \"\n",
    "        \"if possible, in the menu under `Runtime` -> \"\n",
    "        \"`Change runtime type.`  select `GPU` \")\n",
    "  else:\n",
    "    print(\"GPU is enabled in this notebook.\")\n",
    "\n",
    "  return device"
   ]
  },
  {
   "cell_type": "code",
   "execution_count": 417,
   "metadata": {},
   "outputs": [
    {
     "name": "stdout",
     "output_type": "stream",
     "text": [
      "Random seed 42 has been set.\n",
      "GPU is enabled in this notebook.\n"
     ]
    }
   ],
   "source": [
    "SEED = 42\n",
    "set_seed(seed=SEED)\n",
    "DEVICE = set_device()"
   ]
  },
  {
   "cell_type": "markdown",
   "metadata": {},
   "source": [
    "## Model Definition"
   ]
  },
  {
   "cell_type": "code",
   "execution_count": 418,
   "metadata": {},
   "outputs": [],
   "source": [
    "class FFN(nn.Module):\n",
    "\n",
    "    @staticmethod\n",
    "    def he_uniform_init(layer):\n",
    "        \"\"\"\n",
    "        Apply He Uniform Initialization to the layer's weights and optionally biases\n",
    "        \"\"\"\n",
    "        if isinstance(layer, nn.Linear):\n",
    "            nn.init.kaiming_uniform_(layer.weight, mode='fan_in', nonlinearity='relu')\n",
    "            if layer.bias is not None:\n",
    "                nn.init.zeros_(layer.bias)  # common practice is to zero biases\n",
    "\n",
    "    def __init__(self, actv, input_feature_num, hidden_unit_nums, output_feature_num, has_batch_norm=True):\n",
    "        \"\"\"\n",
    "        Initialize Feed-Forward Network parameters\n",
    "        \"\"\"\n",
    "        super(FFN, self).__init__()\n",
    "        self.input_feature_num = input_feature_num\n",
    "        self.ffn = nn.Sequential()\n",
    "        in_num = input_feature_num\n",
    "\n",
    "        for layer_index, out_num in enumerate(hidden_unit_nums):\n",
    "            layer = nn.Linear(in_num, out_num, bias=True)\n",
    "            self.he_uniform_init(layer)  # Apply He initialization here\n",
    "            self.ffn.add_module(f\"Linear_{layer_index}\", layer)\n",
    "\n",
    "            # Batch Normalization Layer\n",
    "            if has_batch_norm:\n",
    "                self.ffn.add_module(f\"BatchNorm_{layer_index}\", nn.BatchNorm1d(out_num))\n",
    "\n",
    "            actv_layer = eval(f\"nn.{actv}\")  \n",
    "            self.ffn.add_module(f\"Activation_{layer_index}\", actv_layer)\n",
    "\n",
    "            in_num = out_num\n",
    "\n",
    "        out_layer = nn.Linear(in_num, output_feature_num, bias=True)\n",
    "        self.he_uniform_init(out_layer)  \n",
    "        self.ffn.add_module(f'Linear_{len(hidden_unit_nums)}', out_layer)\n",
    "\n",
    "    def forward(self, x):\n",
    "        x = x.view(-1, self.input_feature_num)\n",
    "        return self.ffn(x)\n"
   ]
  },
  {
   "cell_type": "markdown",
   "metadata": {},
   "source": [
    "## Defining DataLoaders"
   ]
  },
  {
   "cell_type": "code",
   "execution_count": 419,
   "metadata": {},
   "outputs": [
    {
     "ename": "ValueError",
     "evalue": "With n_samples=0, test_size=0.1 and train_size=None, the resulting train set will be empty. Adjust any of the aforementioned parameters.",
     "output_type": "error",
     "traceback": [
      "\u001b[31m---------------------------------------------------------------------------\u001b[39m",
      "\u001b[31mValueError\u001b[39m                                Traceback (most recent call last)",
      "\u001b[36mCell\u001b[39m\u001b[36m \u001b[39m\u001b[32mIn[419]\u001b[39m\u001b[32m, line 5\u001b[39m\n\u001b[32m      2\u001b[39m y = all_data[:, -\u001b[32m1\u001b[39m]   \u001b[38;5;66;03m# labels  \u001b[39;00m\n\u001b[32m      4\u001b[39m \u001b[38;5;66;03m# Split using sklearn\u001b[39;00m\n\u001b[32m----> \u001b[39m\u001b[32m5\u001b[39m X_train_val, X_test, y_train_val, y_test = \u001b[43mtrain_test_split\u001b[49m\u001b[43m(\u001b[49m\u001b[43mX\u001b[49m\u001b[43m,\u001b[49m\u001b[43m \u001b[49m\u001b[43my\u001b[49m\u001b[43m,\u001b[49m\u001b[43m \u001b[49m\u001b[43mtest_size\u001b[49m\u001b[43m=\u001b[49m\u001b[32;43m0.1\u001b[39;49m\u001b[43m,\u001b[49m\u001b[43m \u001b[49m\u001b[43mrandom_state\u001b[49m\u001b[43m=\u001b[49m\u001b[43mSEED\u001b[49m\u001b[43m)\u001b[49m\n\u001b[32m      6\u001b[39m X_train, X_val, y_train, y_val = train_test_split(X_train_val, y_train_val, test_size=\u001b[32m0.1\u001b[39m, random_state=SEED)\n\u001b[32m      7\u001b[39m \u001b[38;5;66;03m# Convert to tensors\u001b[39;00m\n",
      "\u001b[36mFile \u001b[39m\u001b[32m/mnt/hdd/Workspace/MyThesisRecording/LeoFilestoRun/szenv/lib/python3.13/site-packages/sklearn/utils/_param_validation.py:218\u001b[39m, in \u001b[36mvalidate_params.<locals>.decorator.<locals>.wrapper\u001b[39m\u001b[34m(*args, **kwargs)\u001b[39m\n\u001b[32m    212\u001b[39m \u001b[38;5;28;01mtry\u001b[39;00m:\n\u001b[32m    213\u001b[39m     \u001b[38;5;28;01mwith\u001b[39;00m config_context(\n\u001b[32m    214\u001b[39m         skip_parameter_validation=(\n\u001b[32m    215\u001b[39m             prefer_skip_nested_validation \u001b[38;5;129;01mor\u001b[39;00m global_skip_validation\n\u001b[32m    216\u001b[39m         )\n\u001b[32m    217\u001b[39m     ):\n\u001b[32m--> \u001b[39m\u001b[32m218\u001b[39m         \u001b[38;5;28;01mreturn\u001b[39;00m \u001b[43mfunc\u001b[49m\u001b[43m(\u001b[49m\u001b[43m*\u001b[49m\u001b[43margs\u001b[49m\u001b[43m,\u001b[49m\u001b[43m \u001b[49m\u001b[43m*\u001b[49m\u001b[43m*\u001b[49m\u001b[43mkwargs\u001b[49m\u001b[43m)\u001b[49m\n\u001b[32m    219\u001b[39m \u001b[38;5;28;01mexcept\u001b[39;00m InvalidParameterError \u001b[38;5;28;01mas\u001b[39;00m e:\n\u001b[32m    220\u001b[39m     \u001b[38;5;66;03m# When the function is just a wrapper around an estimator, we allow\u001b[39;00m\n\u001b[32m    221\u001b[39m     \u001b[38;5;66;03m# the function to delegate validation to the estimator, but we replace\u001b[39;00m\n\u001b[32m    222\u001b[39m     \u001b[38;5;66;03m# the name of the estimator by the name of the function in the error\u001b[39;00m\n\u001b[32m    223\u001b[39m     \u001b[38;5;66;03m# message to avoid confusion.\u001b[39;00m\n\u001b[32m    224\u001b[39m     msg = re.sub(\n\u001b[32m    225\u001b[39m         \u001b[33mr\u001b[39m\u001b[33m\"\u001b[39m\u001b[33mparameter of \u001b[39m\u001b[33m\\\u001b[39m\u001b[33mw+ must be\u001b[39m\u001b[33m\"\u001b[39m,\n\u001b[32m    226\u001b[39m         \u001b[33mf\u001b[39m\u001b[33m\"\u001b[39m\u001b[33mparameter of \u001b[39m\u001b[38;5;132;01m{\u001b[39;00mfunc.\u001b[34m__qualname__\u001b[39m\u001b[38;5;132;01m}\u001b[39;00m\u001b[33m must be\u001b[39m\u001b[33m\"\u001b[39m,\n\u001b[32m    227\u001b[39m         \u001b[38;5;28mstr\u001b[39m(e),\n\u001b[32m    228\u001b[39m     )\n",
      "\u001b[36mFile \u001b[39m\u001b[32m/mnt/hdd/Workspace/MyThesisRecording/LeoFilestoRun/szenv/lib/python3.13/site-packages/sklearn/model_selection/_split.py:2919\u001b[39m, in \u001b[36mtrain_test_split\u001b[39m\u001b[34m(test_size, train_size, random_state, shuffle, stratify, *arrays)\u001b[39m\n\u001b[32m   2916\u001b[39m arrays = indexable(*arrays)\n\u001b[32m   2918\u001b[39m n_samples = _num_samples(arrays[\u001b[32m0\u001b[39m])\n\u001b[32m-> \u001b[39m\u001b[32m2919\u001b[39m n_train, n_test = \u001b[43m_validate_shuffle_split\u001b[49m\u001b[43m(\u001b[49m\n\u001b[32m   2920\u001b[39m \u001b[43m    \u001b[49m\u001b[43mn_samples\u001b[49m\u001b[43m,\u001b[49m\u001b[43m \u001b[49m\u001b[43mtest_size\u001b[49m\u001b[43m,\u001b[49m\u001b[43m \u001b[49m\u001b[43mtrain_size\u001b[49m\u001b[43m,\u001b[49m\u001b[43m \u001b[49m\u001b[43mdefault_test_size\u001b[49m\u001b[43m=\u001b[49m\u001b[32;43m0.25\u001b[39;49m\n\u001b[32m   2921\u001b[39m \u001b[43m\u001b[49m\u001b[43m)\u001b[49m\n\u001b[32m   2923\u001b[39m \u001b[38;5;28;01mif\u001b[39;00m shuffle \u001b[38;5;129;01mis\u001b[39;00m \u001b[38;5;28;01mFalse\u001b[39;00m:\n\u001b[32m   2924\u001b[39m     \u001b[38;5;28;01mif\u001b[39;00m stratify \u001b[38;5;129;01mis\u001b[39;00m \u001b[38;5;129;01mnot\u001b[39;00m \u001b[38;5;28;01mNone\u001b[39;00m:\n",
      "\u001b[36mFile \u001b[39m\u001b[32m/mnt/hdd/Workspace/MyThesisRecording/LeoFilestoRun/szenv/lib/python3.13/site-packages/sklearn/model_selection/_split.py:2499\u001b[39m, in \u001b[36m_validate_shuffle_split\u001b[39m\u001b[34m(n_samples, test_size, train_size, default_test_size)\u001b[39m\n\u001b[32m   2496\u001b[39m n_train, n_test = \u001b[38;5;28mint\u001b[39m(n_train), \u001b[38;5;28mint\u001b[39m(n_test)\n\u001b[32m   2498\u001b[39m \u001b[38;5;28;01mif\u001b[39;00m n_train == \u001b[32m0\u001b[39m:\n\u001b[32m-> \u001b[39m\u001b[32m2499\u001b[39m     \u001b[38;5;28;01mraise\u001b[39;00m \u001b[38;5;167;01mValueError\u001b[39;00m(\n\u001b[32m   2500\u001b[39m         \u001b[33m\"\u001b[39m\u001b[33mWith n_samples=\u001b[39m\u001b[38;5;132;01m{}\u001b[39;00m\u001b[33m, test_size=\u001b[39m\u001b[38;5;132;01m{}\u001b[39;00m\u001b[33m and train_size=\u001b[39m\u001b[38;5;132;01m{}\u001b[39;00m\u001b[33m, the \u001b[39m\u001b[33m\"\u001b[39m\n\u001b[32m   2501\u001b[39m         \u001b[33m\"\u001b[39m\u001b[33mresulting train set will be empty. Adjust any of the \u001b[39m\u001b[33m\"\u001b[39m\n\u001b[32m   2502\u001b[39m         \u001b[33m\"\u001b[39m\u001b[33maforementioned parameters.\u001b[39m\u001b[33m\"\u001b[39m.format(n_samples, test_size, train_size)\n\u001b[32m   2503\u001b[39m     )\n\u001b[32m   2505\u001b[39m \u001b[38;5;28;01mreturn\u001b[39;00m n_train, n_test\n",
      "\u001b[31mValueError\u001b[39m: With n_samples=0, test_size=0.1 and train_size=None, the resulting train set will be empty. Adjust any of the aforementioned parameters."
     ]
    }
   ],
   "source": [
    "X = all_data[:, :-1]  # features \n",
    "y = all_data[:, -1]   # labels  \n",
    "\n",
    "# Split using sklearn\n",
    "X_train_val, X_test, y_train_val, y_test = train_test_split(X, y, test_size=0.1, random_state=SEED)\n",
    "X_train, X_val, y_train, y_val = train_test_split(X_train_val, y_train_val, test_size=0.1, random_state=SEED)\n",
    "# Convert to tensors\n",
    "X_train_tensor, y_train_tensor = torch.tensor(X_train, dtype=torch.float32), torch.tensor(y_train, dtype=torch.long)  # or float32 for regression\n",
    "X_val_tensor, y_val_tensor = torch.tensor(X_val, dtype=torch.float32), torch.tensor(y_val, dtype=torch.long)\n",
    "X_test_tensor, y_test_tensor = torch.tensor(X_test, dtype=torch.float32), torch.tensor(y_test, dtype=torch.long)\n",
    "\n",
    "# Wrap in TensorDataset\n",
    "train_dataset = TensorDataset(X_train_tensor, y_train_tensor)\n",
    "val_dataset   = TensorDataset(X_val_tensor, y_val_tensor)\n",
    "test_dataset = TensorDataset(X_test_tensor, y_test_tensor)"
   ]
  },
  {
   "cell_type": "code",
   "execution_count": null,
   "metadata": {},
   "outputs": [],
   "source": [
    "batch_size = 512\n",
    "g_seed = torch.Generator()\n",
    "g_seed.manual_seed(SEED)\n",
    "\n",
    "def get_data_loaders(train_dataset, val_dataset, test_dataset):\n",
    "\n",
    "  train_loader = DataLoader(train_dataset,\n",
    "                          batch_size=batch_size,\n",
    "                          shuffle=True,\n",
    "                          worker_init_fn=seed_worker,\n",
    "                          generator=g_seed,\n",
    "                          )\n",
    "\n",
    "\n",
    "  val_loader = DataLoader(val_dataset,\n",
    "                         batch_size=batch_size,\n",
    "                         shuffle=False,\n",
    "                         worker_init_fn=seed_worker,\n",
    "                         generator=g_seed,\n",
    "                        )\n",
    "\n",
    "  test_loader = DataLoader(test_dataset,\n",
    "                         batch_size=batch_size,\n",
    "                         shuffle=False,\n",
    "                         worker_init_fn=seed_worker,\n",
    "                         generator=g_seed,\n",
    "                        )\n",
    "  return train_loader, val_loader, test_loader\n",
    "\n",
    "\n",
    "train_loader, val_loader, test_loader = get_data_loaders(train_dataset, val_dataset, test_dataset)"
   ]
  },
  {
   "cell_type": "markdown",
   "metadata": {},
   "source": [
    "## Training Loop"
   ]
  },
  {
   "cell_type": "code",
   "execution_count": null,
   "metadata": {},
   "outputs": [],
   "source": [
    "def get_model_accuracy(net, data_loader, device=DEVICE):\n",
    "  correct = 0\n",
    "  net.eval()  # Set model to evaluation mode\n",
    "  with torch.no_grad():  # No need to track gradients\n",
    "    for inputs, labels in data_loader:\n",
    "      inputs = inputs.to(device)\n",
    "      labels = labels.to(device)\n",
    "      y_pred = torch.argmax(net(inputs), dim=1)\n",
    "      correct += (labels == y_pred).sum().item()\n",
    "  accuracy = (correct / len(data_loader.dataset)) * 100\n",
    "  return accuracy\n",
    "\n",
    "\n",
    "def get_loss(net, criterion, data_loader, device=DEVICE):\n",
    "    net.eval() #Set model to evaluation mode\n",
    "    with torch.no_grad():\n",
    "        running_loss = 0.0\n",
    "        for inputs, labels in data_loader:\n",
    "            inputs = inputs.to(device)\n",
    "            labels = labels.to(device)\n",
    "            outputs = net(inputs)\n",
    "            loss = criterion(outputs, labels)\n",
    "            running_loss += loss.item()\n",
    "    return running_loss / len(data_loader)\n",
    "\n",
    "\n",
    "\n",
    "\n",
    "def train_eval_model(net, criterion, optimizer, train_loader, valid_loader, test_loader, num_epochs, validation_freq, verbose=True, device=DEVICE):\n",
    "    net.to(device)\n",
    "    training_accuracy, validation_accuracy, test_accuracy = [], [], []\n",
    "    for epoch in tqdm(range(num_epochs)):  # Loop over the dataset multiple times\n",
    "        net.train()\n",
    "        running_loss = 0.\n",
    "        for inputs, labels in train_loader:\n",
    "            inputs = inputs.to(device)\n",
    "            labels = labels.to(device)\n",
    "            # Zero the parameter gradients\n",
    "            optimizer.zero_grad()\n",
    "            # forward + backward + optimize\n",
    "            outputs = net(inputs)\n",
    "            loss = criterion(outputs, labels)\n",
    "            loss.backward()\n",
    "            optimizer.step()\n",
    "            # add current loss to running_loss\n",
    "            running_loss += loss.detach().item()\n",
    "        train_loss = running_loss / len(train_loader)\n",
    "        if verbose:\n",
    "          print(f\"Epoch {epoch}: Train Loss {train_loss}\")\n",
    "        # save accuracy and loss for plotting\n",
    "        if epoch % validation_freq == 0:\n",
    "            validation_accuracy.append(get_model_accuracy(net, valid_loader))\n",
    "            test_accuracy.append(get_model_accuracy(net, test_loader))\n",
    "            training_accuracy.append(get_model_accuracy(net, train_loader))\n",
    "    return net, training_accuracy, validation_accuracy, test_accuracy\n"
   ]
  },
  {
   "cell_type": "code",
   "execution_count": null,
   "metadata": {},
   "outputs": [],
   "source": [
    "actv = \"ReLU()\"\n",
    "input_feature_num = feature_dim\n",
    "hidden_unit_nums = [4096, 2048, 1024, 512, 256, 128]\n",
    "output_feature_num = 3\n",
    "max_epochs = 300\n",
    "criterion = nn.CrossEntropyLoss()\n",
    "mlp = FFN(actv, input_feature_num, hidden_unit_nums, output_feature_num)\n",
    "optimizer = torch.optim.Adam(mlp.parameters(), lr=1e-3)"
   ]
  },
  {
   "cell_type": "code",
   "execution_count": null,
   "metadata": {},
   "outputs": [
    {
     "name": "stderr",
     "output_type": "stream",
     "text": [
      "  0%|          | 0/300 [00:00<?, ?it/s]"
     ]
    },
    {
     "name": "stdout",
     "output_type": "stream",
     "text": [
      "Epoch 0: Train Loss 0.4874963201582432\n"
     ]
    },
    {
     "name": "stderr",
     "output_type": "stream",
     "text": [
      "  1%|▏         | 4/300 [00:00<00:18, 16.42it/s]"
     ]
    },
    {
     "name": "stdout",
     "output_type": "stream",
     "text": [
      "Epoch 1: Train Loss 0.1072981742521127\n",
      "Epoch 2: Train Loss 0.10977506761749585\n",
      "Epoch 3: Train Loss 0.08754773313800494\n",
      "Epoch 4: Train Loss 0.07421144532660644\n"
     ]
    },
    {
     "name": "stderr",
     "output_type": "stream",
     "text": [
      "  3%|▎         | 8/300 [00:00<00:16, 17.68it/s]"
     ]
    },
    {
     "name": "stdout",
     "output_type": "stream",
     "text": [
      "Epoch 5: Train Loss 0.0696029718965292\n",
      "Epoch 6: Train Loss 0.05870953636864821\n",
      "Epoch 7: Train Loss 0.061091143948336445\n",
      "Epoch 8: Train Loss 0.07941245846450329\n"
     ]
    },
    {
     "name": "stderr",
     "output_type": "stream",
     "text": [
      "  4%|▍         | 12/300 [00:00<00:16, 17.07it/s]"
     ]
    },
    {
     "name": "stdout",
     "output_type": "stream",
     "text": [
      "Epoch 9: Train Loss 0.05935899789134661\n",
      "Epoch 10: Train Loss 0.05381395978232225\n",
      "Epoch 11: Train Loss 0.04875841240088145\n"
     ]
    },
    {
     "name": "stderr",
     "output_type": "stream",
     "text": [
      "  5%|▌         | 16/300 [00:01<00:21, 13.32it/s]"
     ]
    },
    {
     "name": "stdout",
     "output_type": "stream",
     "text": [
      "Epoch 12: Train Loss 0.04429334029555321\n",
      "Epoch 13: Train Loss 0.038103253580629826\n",
      "Epoch 14: Train Loss 0.03748097798476616\n",
      "Epoch 15: Train Loss 0.05517082071552674\n"
     ]
    },
    {
     "name": "stderr",
     "output_type": "stream",
     "text": [
      "  7%|▋         | 20/300 [00:01<00:18, 15.53it/s]"
     ]
    },
    {
     "name": "stdout",
     "output_type": "stream",
     "text": [
      "Epoch 16: Train Loss 0.045076328329741955\n",
      "Epoch 17: Train Loss 0.04105582181364298\n",
      "Epoch 18: Train Loss 0.03103856338808934\n",
      "Epoch 19: Train Loss 0.023722631856799126\n"
     ]
    },
    {
     "name": "stderr",
     "output_type": "stream",
     "text": [
      "  8%|▊         | 24/300 [00:01<00:16, 16.29it/s]"
     ]
    },
    {
     "name": "stdout",
     "output_type": "stream",
     "text": [
      "Epoch 20: Train Loss 0.022480671604474384\n",
      "Epoch 21: Train Loss 0.0304843676276505\n",
      "Epoch 22: Train Loss 0.029156757208208244\n",
      "Epoch 23: Train Loss 0.024130027430752914\n"
     ]
    },
    {
     "name": "stderr",
     "output_type": "stream",
     "text": [
      "  9%|▉         | 28/300 [00:01<00:15, 17.28it/s]"
     ]
    },
    {
     "name": "stdout",
     "output_type": "stream",
     "text": [
      "Epoch 24: Train Loss 0.019926143810153008\n",
      "Epoch 25: Train Loss 0.018638288291792076\n",
      "Epoch 26: Train Loss 0.014613576388607422\n",
      "Epoch 27: Train Loss 0.013980009903510412\n"
     ]
    },
    {
     "name": "stderr",
     "output_type": "stream",
     "text": [
      " 11%|█         | 32/300 [00:02<00:15, 16.88it/s]"
     ]
    },
    {
     "name": "stdout",
     "output_type": "stream",
     "text": [
      "Epoch 28: Train Loss 0.02240356244146824\n",
      "Epoch 29: Train Loss 0.014452869538217783\n",
      "Epoch 30: Train Loss 0.0190844195894897\n",
      "Epoch 31: Train Loss 0.02442168879012267\n"
     ]
    },
    {
     "name": "stderr",
     "output_type": "stream",
     "text": [
      " 12%|█▏        | 36/300 [00:02<00:15, 17.58it/s]"
     ]
    },
    {
     "name": "stdout",
     "output_type": "stream",
     "text": [
      "Epoch 32: Train Loss 0.03040233456219236\n",
      "Epoch 33: Train Loss 0.02195614669471979\n",
      "Epoch 34: Train Loss 0.023162923520430923\n",
      "Epoch 35: Train Loss 0.02529885961363713\n"
     ]
    },
    {
     "name": "stderr",
     "output_type": "stream",
     "text": [
      " 13%|█▎        | 40/300 [00:02<00:14, 17.92it/s]"
     ]
    },
    {
     "name": "stdout",
     "output_type": "stream",
     "text": [
      "Epoch 36: Train Loss 0.01916889954979221\n",
      "Epoch 37: Train Loss 0.01642143268448611\n",
      "Epoch 38: Train Loss 0.014431351019690434\n",
      "Epoch 39: Train Loss 0.013409515221913656\n"
     ]
    },
    {
     "name": "stderr",
     "output_type": "stream",
     "text": [
      " 15%|█▍        | 44/300 [00:02<00:14, 17.50it/s]"
     ]
    },
    {
     "name": "stdout",
     "output_type": "stream",
     "text": [
      "Epoch 40: Train Loss 0.0102686807513237\n",
      "Epoch 41: Train Loss 0.010749991944370171\n",
      "Epoch 42: Train Loss 0.009320095181465149\n",
      "Epoch 43: Train Loss 0.010401629144325852\n"
     ]
    },
    {
     "name": "stderr",
     "output_type": "stream",
     "text": [
      " 16%|█▌        | 48/300 [00:02<00:14, 17.90it/s]"
     ]
    },
    {
     "name": "stdout",
     "output_type": "stream",
     "text": [
      "Epoch 44: Train Loss 0.007443872202808659\n",
      "Epoch 45: Train Loss 0.007275532775868972\n",
      "Epoch 46: Train Loss 0.00850108494826903\n",
      "Epoch 47: Train Loss 0.005486266338266432\n"
     ]
    },
    {
     "name": "stderr",
     "output_type": "stream",
     "text": [
      " 17%|█▋        | 52/300 [00:03<00:14, 17.21it/s]"
     ]
    },
    {
     "name": "stdout",
     "output_type": "stream",
     "text": [
      "Epoch 48: Train Loss 0.006557694578077644\n",
      "Epoch 49: Train Loss 0.007063168780102084\n",
      "Epoch 50: Train Loss 0.009283216670155525\n",
      "Epoch 51: Train Loss 0.008173404804741343\n"
     ]
    },
    {
     "name": "stderr",
     "output_type": "stream",
     "text": [
      " 19%|█▊        | 56/300 [00:03<00:13, 17.77it/s]"
     ]
    },
    {
     "name": "stdout",
     "output_type": "stream",
     "text": [
      "Epoch 52: Train Loss 0.010730578564107418\n",
      "Epoch 53: Train Loss 0.00970356484564642\n",
      "Epoch 54: Train Loss 0.00793270425250133\n",
      "Epoch 55: Train Loss 0.006253269966691732\n"
     ]
    },
    {
     "name": "stderr",
     "output_type": "stream",
     "text": [
      " 20%|██        | 60/300 [00:03<00:13, 18.02it/s]"
     ]
    },
    {
     "name": "stdout",
     "output_type": "stream",
     "text": [
      "Epoch 56: Train Loss 0.006932506337761879\n",
      "Epoch 57: Train Loss 0.007268147853513558\n",
      "Epoch 58: Train Loss 0.012933168094605207\n",
      "Epoch 59: Train Loss 0.017880012126018602\n"
     ]
    },
    {
     "name": "stderr",
     "output_type": "stream",
     "text": [
      " 21%|██▏       | 64/300 [00:03<00:13, 17.45it/s]"
     ]
    },
    {
     "name": "stdout",
     "output_type": "stream",
     "text": [
      "Epoch 60: Train Loss 0.018034001579508185\n",
      "Epoch 61: Train Loss 0.02206551128377517\n",
      "Epoch 62: Train Loss 0.01728816470131278\n",
      "Epoch 63: Train Loss 0.01439902683099111\n"
     ]
    },
    {
     "name": "stderr",
     "output_type": "stream",
     "text": [
      " 23%|██▎       | 68/300 [00:04<00:12, 17.92it/s]"
     ]
    },
    {
     "name": "stdout",
     "output_type": "stream",
     "text": [
      "Epoch 64: Train Loss 0.013368328024322787\n",
      "Epoch 65: Train Loss 0.011886326014064252\n",
      "Epoch 66: Train Loss 0.01262634270824492\n",
      "Epoch 67: Train Loss 0.0093267773433278\n"
     ]
    },
    {
     "name": "stderr",
     "output_type": "stream",
     "text": [
      " 24%|██▍       | 72/300 [00:04<00:13, 17.10it/s]"
     ]
    },
    {
     "name": "stdout",
     "output_type": "stream",
     "text": [
      "Epoch 68: Train Loss 0.006837128855598469\n",
      "Epoch 69: Train Loss 0.009158761124126613\n",
      "Epoch 70: Train Loss 0.005157881416380405\n",
      "Epoch 71: Train Loss 0.005279217769081394\n"
     ]
    },
    {
     "name": "stderr",
     "output_type": "stream",
     "text": [
      " 25%|██▌       | 76/300 [00:04<00:12, 17.66it/s]"
     ]
    },
    {
     "name": "stdout",
     "output_type": "stream",
     "text": [
      "Epoch 72: Train Loss 0.004510666146719207\n",
      "Epoch 73: Train Loss 0.00346027526150768\n",
      "Epoch 74: Train Loss 0.0029149729816708714\n",
      "Epoch 75: Train Loss 0.002980134052146847\n"
     ]
    },
    {
     "name": "stderr",
     "output_type": "stream",
     "text": [
      " 27%|██▋       | 80/300 [00:04<00:12, 17.96it/s]"
     ]
    },
    {
     "name": "stdout",
     "output_type": "stream",
     "text": [
      "Epoch 76: Train Loss 0.003183463520448034\n",
      "Epoch 77: Train Loss 0.00247482613970836\n",
      "Epoch 78: Train Loss 0.0026633029143946865\n",
      "Epoch 79: Train Loss 0.0026275499064164856\n"
     ]
    },
    {
     "name": "stderr",
     "output_type": "stream",
     "text": [
      " 28%|██▊       | 84/300 [00:04<00:12, 17.47it/s]"
     ]
    },
    {
     "name": "stdout",
     "output_type": "stream",
     "text": [
      "Epoch 80: Train Loss 0.002090959023917094\n",
      "Epoch 81: Train Loss 0.0023669344858111194\n",
      "Epoch 82: Train Loss 0.002074695754951487\n",
      "Epoch 83: Train Loss 0.0019085734869198252\n"
     ]
    },
    {
     "name": "stderr",
     "output_type": "stream",
     "text": [
      " 29%|██▉       | 88/300 [00:05<00:11, 17.81it/s]"
     ]
    },
    {
     "name": "stdout",
     "output_type": "stream",
     "text": [
      "Epoch 84: Train Loss 0.0023324833455262706\n",
      "Epoch 85: Train Loss 0.0020872317157530538\n",
      "Epoch 86: Train Loss 0.0027316784738407782\n",
      "Epoch 87: Train Loss 0.0028280074669358632\n"
     ]
    },
    {
     "name": "stderr",
     "output_type": "stream",
     "text": [
      " 31%|███       | 92/300 [00:05<00:12, 17.12it/s]"
     ]
    },
    {
     "name": "stdout",
     "output_type": "stream",
     "text": [
      "Epoch 88: Train Loss 0.003094894617485503\n",
      "Epoch 89: Train Loss 0.004439602101532121\n",
      "Epoch 90: Train Loss 0.0028020159127966813\n",
      "Epoch 91: Train Loss 0.002993822631348545\n"
     ]
    },
    {
     "name": "stderr",
     "output_type": "stream",
     "text": [
      " 32%|███▏      | 96/300 [00:05<00:11, 17.72it/s]"
     ]
    },
    {
     "name": "stdout",
     "output_type": "stream",
     "text": [
      "Epoch 92: Train Loss 0.002766290587411883\n",
      "Epoch 93: Train Loss 0.002102723611945597\n",
      "Epoch 94: Train Loss 0.0024098423503649733\n",
      "Epoch 95: Train Loss 0.002219335365225561\n"
     ]
    },
    {
     "name": "stderr",
     "output_type": "stream",
     "text": [
      " 33%|███▎      | 100/300 [00:05<00:11, 18.03it/s]"
     ]
    },
    {
     "name": "stdout",
     "output_type": "stream",
     "text": [
      "Epoch 96: Train Loss 0.002218331370386295\n",
      "Epoch 97: Train Loss 0.006442865735152736\n",
      "Epoch 98: Train Loss 0.008931783871958032\n",
      "Epoch 99: Train Loss 0.010332757025025785\n"
     ]
    },
    {
     "name": "stderr",
     "output_type": "stream",
     "text": [
      " 35%|███▍      | 104/300 [00:06<00:11, 17.53it/s]"
     ]
    },
    {
     "name": "stdout",
     "output_type": "stream",
     "text": [
      "Epoch 100: Train Loss 0.013238453771919012\n",
      "Epoch 101: Train Loss 0.009888405484768251\n",
      "Epoch 102: Train Loss 0.011488816312824687\n",
      "Epoch 103: Train Loss 0.007198828000885745\n"
     ]
    },
    {
     "name": "stderr",
     "output_type": "stream",
     "text": [
      " 36%|███▌      | 108/300 [00:06<00:10, 17.92it/s]"
     ]
    },
    {
     "name": "stdout",
     "output_type": "stream",
     "text": [
      "Epoch 104: Train Loss 0.005402195383794606\n",
      "Epoch 105: Train Loss 0.005334848014172167\n",
      "Epoch 106: Train Loss 0.003798197334011396\n",
      "Epoch 107: Train Loss 0.0031246955234867833\n"
     ]
    },
    {
     "name": "stderr",
     "output_type": "stream",
     "text": [
      " 37%|███▋      | 112/300 [00:06<00:10, 17.23it/s]"
     ]
    },
    {
     "name": "stdout",
     "output_type": "stream",
     "text": [
      "Epoch 108: Train Loss 0.0032326760701835155\n",
      "Epoch 109: Train Loss 0.0025835420868437118\n",
      "Epoch 110: Train Loss 0.0030818377854302526\n",
      "Epoch 111: Train Loss 0.002697064793513467\n"
     ]
    },
    {
     "name": "stderr",
     "output_type": "stream",
     "text": [
      " 39%|███▊      | 116/300 [00:06<00:10, 17.64it/s]"
     ]
    },
    {
     "name": "stdout",
     "output_type": "stream",
     "text": [
      "Epoch 112: Train Loss 0.0026592984601544836\n",
      "Epoch 113: Train Loss 0.002940025161175678\n",
      "Epoch 114: Train Loss 0.0023719709812818715\n",
      "Epoch 115: Train Loss 0.005149857223538372\n"
     ]
    },
    {
     "name": "stderr",
     "output_type": "stream",
     "text": [
      " 40%|████      | 120/300 [00:06<00:10, 17.99it/s]"
     ]
    },
    {
     "name": "stdout",
     "output_type": "stream",
     "text": [
      "Epoch 116: Train Loss 0.005384501438432683\n",
      "Epoch 117: Train Loss 0.004272624893928878\n",
      "Epoch 118: Train Loss 0.00406911342482393\n",
      "Epoch 119: Train Loss 0.006783838233483645\n"
     ]
    },
    {
     "name": "stderr",
     "output_type": "stream",
     "text": [
      " 41%|████▏     | 124/300 [00:07<00:10, 17.37it/s]"
     ]
    },
    {
     "name": "stdout",
     "output_type": "stream",
     "text": [
      "Epoch 120: Train Loss 0.0035225540438356497\n",
      "Epoch 121: Train Loss 0.003727531618399856\n",
      "Epoch 122: Train Loss 0.004146078291038672\n",
      "Epoch 123: Train Loss 0.005765635597830017\n"
     ]
    },
    {
     "name": "stderr",
     "output_type": "stream",
     "text": [
      " 43%|████▎     | 128/300 [00:07<00:09, 17.82it/s]"
     ]
    },
    {
     "name": "stdout",
     "output_type": "stream",
     "text": [
      "Epoch 124: Train Loss 0.005150947617948987\n",
      "Epoch 125: Train Loss 0.0040436194006664055\n",
      "Epoch 126: Train Loss 0.0037201729331475994\n",
      "Epoch 127: Train Loss 0.0037183715806653104\n"
     ]
    },
    {
     "name": "stderr",
     "output_type": "stream",
     "text": [
      " 44%|████▍     | 132/300 [00:07<00:09, 17.13it/s]"
     ]
    },
    {
     "name": "stdout",
     "output_type": "stream",
     "text": [
      "Epoch 128: Train Loss 0.003116348782593074\n",
      "Epoch 129: Train Loss 0.0023144831454070904\n",
      "Epoch 130: Train Loss 0.002959020896620738\n",
      "Epoch 131: Train Loss 0.002590261210571043\n"
     ]
    },
    {
     "name": "stderr",
     "output_type": "stream",
     "text": [
      " 45%|████▌     | 136/300 [00:07<00:09, 17.72it/s]"
     ]
    },
    {
     "name": "stdout",
     "output_type": "stream",
     "text": [
      "Epoch 132: Train Loss 0.0020519996129830056\n",
      "Epoch 133: Train Loss 0.001814757570779572\n",
      "Epoch 134: Train Loss 0.0017594466989976354\n",
      "Epoch 135: Train Loss 0.002011538051495639\n"
     ]
    },
    {
     "name": "stderr",
     "output_type": "stream",
     "text": [
      " 47%|████▋     | 140/300 [00:08<00:08, 18.01it/s]"
     ]
    },
    {
     "name": "stdout",
     "output_type": "stream",
     "text": [
      "Epoch 136: Train Loss 0.0030248161007572585\n",
      "Epoch 137: Train Loss 0.008658435581310187\n",
      "Epoch 138: Train Loss 0.004358127422165126\n",
      "Epoch 139: Train Loss 0.0026352581286725276\n"
     ]
    },
    {
     "name": "stderr",
     "output_type": "stream",
     "text": [
      " 48%|████▊     | 144/300 [00:08<00:08, 17.45it/s]"
     ]
    },
    {
     "name": "stdout",
     "output_type": "stream",
     "text": [
      "Epoch 140: Train Loss 0.002948805044676798\n",
      "Epoch 141: Train Loss 0.0027458915137685835\n",
      "Epoch 142: Train Loss 0.002147689912817441\n",
      "Epoch 143: Train Loss 0.002589781016771061\n"
     ]
    },
    {
     "name": "stderr",
     "output_type": "stream",
     "text": [
      " 49%|████▉     | 148/300 [00:08<00:08, 17.84it/s]"
     ]
    },
    {
     "name": "stdout",
     "output_type": "stream",
     "text": [
      "Epoch 144: Train Loss 0.0022110626183954687\n",
      "Epoch 145: Train Loss 0.0025741719703849717\n",
      "Epoch 146: Train Loss 0.0023313530788679295\n",
      "Epoch 147: Train Loss 0.0024521596351405606\n"
     ]
    },
    {
     "name": "stderr",
     "output_type": "stream",
     "text": [
      " 51%|█████     | 152/300 [00:08<00:08, 17.18it/s]"
     ]
    },
    {
     "name": "stdout",
     "output_type": "stream",
     "text": [
      "Epoch 148: Train Loss 0.0027124748594360426\n",
      "Epoch 149: Train Loss 0.0016967744183299753\n",
      "Epoch 150: Train Loss 0.0017342042386493024\n",
      "Epoch 151: Train Loss 0.0017767765481645863\n"
     ]
    },
    {
     "name": "stderr",
     "output_type": "stream",
     "text": [
      " 52%|█████▏    | 156/300 [00:09<00:08, 17.74it/s]"
     ]
    },
    {
     "name": "stdout",
     "output_type": "stream",
     "text": [
      "Epoch 152: Train Loss 0.0017754862152893718\n",
      "Epoch 153: Train Loss 0.0018871325495031972\n",
      "Epoch 154: Train Loss 0.0018455950436570372\n",
      "Epoch 155: Train Loss 0.0018267937824324083\n"
     ]
    },
    {
     "name": "stderr",
     "output_type": "stream",
     "text": [
      " 53%|█████▎    | 160/300 [00:09<00:07, 17.97it/s]"
     ]
    },
    {
     "name": "stdout",
     "output_type": "stream",
     "text": [
      "Epoch 156: Train Loss 0.0015803239487771255\n",
      "Epoch 157: Train Loss 0.0017590146793130164\n",
      "Epoch 158: Train Loss 0.002073862466204446\n",
      "Epoch 159: Train Loss 0.0014731434202985838\n",
      "Epoch 160: Train Loss 0.001867976097855717\n"
     ]
    },
    {
     "name": "stderr",
     "output_type": "stream",
     "text": [
      " 55%|█████▍    | 164/300 [00:09<00:09, 13.91it/s]"
     ]
    },
    {
     "name": "stdout",
     "output_type": "stream",
     "text": [
      "Epoch 161: Train Loss 0.0014012227135632809\n",
      "Epoch 162: Train Loss 0.0017319285737661023\n",
      "Epoch 163: Train Loss 0.0015469303204251144\n",
      "Epoch 164: Train Loss 0.0014951510080815449\n"
     ]
    },
    {
     "name": "stderr",
     "output_type": "stream",
     "text": [
      " 56%|█████▌    | 168/300 [00:09<00:08, 15.86it/s]"
     ]
    },
    {
     "name": "stdout",
     "output_type": "stream",
     "text": [
      "Epoch 165: Train Loss 0.0018577491185472657\n",
      "Epoch 166: Train Loss 0.001946008039036921\n",
      "Epoch 167: Train Loss 0.0016041956550907344\n",
      "Epoch 168: Train Loss 0.002416854571492877\n"
     ]
    },
    {
     "name": "stderr",
     "output_type": "stream",
     "text": [
      " 57%|█████▋    | 172/300 [00:10<00:07, 16.21it/s]"
     ]
    },
    {
     "name": "stdout",
     "output_type": "stream",
     "text": [
      "Epoch 169: Train Loss 0.002024662502662977\n",
      "Epoch 170: Train Loss 0.0015791412321656633\n",
      "Epoch 171: Train Loss 0.0022213160361085706\n",
      "Epoch 172: Train Loss 0.0017539411225394967\n"
     ]
    },
    {
     "name": "stderr",
     "output_type": "stream",
     "text": [
      " 59%|█████▊    | 176/300 [00:10<00:07, 17.23it/s]"
     ]
    },
    {
     "name": "stdout",
     "output_type": "stream",
     "text": [
      "Epoch 173: Train Loss 0.001985441140277544\n",
      "Epoch 174: Train Loss 0.001955085533457653\n",
      "Epoch 175: Train Loss 0.0022271446808493542\n",
      "Epoch 176: Train Loss 0.0017657724189727257\n"
     ]
    },
    {
     "name": "stderr",
     "output_type": "stream",
     "text": [
      " 60%|██████    | 180/300 [00:10<00:06, 17.75it/s]"
     ]
    },
    {
     "name": "stdout",
     "output_type": "stream",
     "text": [
      "Epoch 177: Train Loss 0.001585142334079137\n",
      "Epoch 178: Train Loss 0.0016732121124126327\n",
      "Epoch 179: Train Loss 0.0020621160389661477\n",
      "Epoch 180: Train Loss 0.0017988992597868976\n"
     ]
    },
    {
     "name": "stderr",
     "output_type": "stream",
     "text": [
      " 61%|██████▏   | 184/300 [00:10<00:06, 17.47it/s]"
     ]
    },
    {
     "name": "stdout",
     "output_type": "stream",
     "text": [
      "Epoch 181: Train Loss 0.0018161477504084662\n",
      "Epoch 182: Train Loss 0.0016620937688761235\n",
      "Epoch 183: Train Loss 0.001481180711076983\n",
      "Epoch 184: Train Loss 0.0016127131687729464\n"
     ]
    },
    {
     "name": "stderr",
     "output_type": "stream",
     "text": [
      " 63%|██████▎   | 188/300 [00:10<00:06, 17.97it/s]"
     ]
    },
    {
     "name": "stdout",
     "output_type": "stream",
     "text": [
      "Epoch 185: Train Loss 0.0020129732620262075\n",
      "Epoch 186: Train Loss 0.0015637515413497265\n",
      "Epoch 187: Train Loss 0.0018639829116485391\n",
      "Epoch 188: Train Loss 0.0026067156407710477\n"
     ]
    },
    {
     "name": "stderr",
     "output_type": "stream",
     "text": [
      " 64%|██████▍   | 192/300 [00:11<00:06, 17.23it/s]"
     ]
    },
    {
     "name": "stdout",
     "output_type": "stream",
     "text": [
      "Epoch 189: Train Loss 0.013057190992791826\n",
      "Epoch 190: Train Loss 0.005762929181704142\n",
      "Epoch 191: Train Loss 0.013847950496710837\n",
      "Epoch 192: Train Loss 0.020633775546836357\n"
     ]
    },
    {
     "name": "stderr",
     "output_type": "stream",
     "text": [
      " 65%|██████▌   | 196/300 [00:11<00:05, 17.80it/s]"
     ]
    },
    {
     "name": "stdout",
     "output_type": "stream",
     "text": [
      "Epoch 193: Train Loss 0.02151553361909464\n",
      "Epoch 194: Train Loss 0.02320984456067284\n",
      "Epoch 195: Train Loss 0.0332783890577654\n",
      "Epoch 196: Train Loss 0.03142410144209862\n"
     ]
    },
    {
     "name": "stderr",
     "output_type": "stream",
     "text": [
      " 67%|██████▋   | 200/300 [00:11<00:05, 18.08it/s]"
     ]
    },
    {
     "name": "stdout",
     "output_type": "stream",
     "text": [
      "Epoch 197: Train Loss 0.017921298897514742\n",
      "Epoch 198: Train Loss 0.014555054173494378\n",
      "Epoch 199: Train Loss 0.009626650949940085\n",
      "Epoch 200: Train Loss 0.009407681412994862\n"
     ]
    },
    {
     "name": "stderr",
     "output_type": "stream",
     "text": [
      " 68%|██████▊   | 204/300 [00:11<00:05, 17.57it/s]"
     ]
    },
    {
     "name": "stdout",
     "output_type": "stream",
     "text": [
      "Epoch 201: Train Loss 0.00686672826608022\n",
      "Epoch 202: Train Loss 0.007582848658785224\n",
      "Epoch 203: Train Loss 0.0055833397394356625\n",
      "Epoch 204: Train Loss 0.005773636512458324\n"
     ]
    },
    {
     "name": "stderr",
     "output_type": "stream",
     "text": [
      " 69%|██████▉   | 208/300 [00:12<00:05, 17.97it/s]"
     ]
    },
    {
     "name": "stdout",
     "output_type": "stream",
     "text": [
      "Epoch 205: Train Loss 0.004578909875514607\n",
      "Epoch 206: Train Loss 0.005091686694261928\n",
      "Epoch 207: Train Loss 0.00329028880999734\n",
      "Epoch 208: Train Loss 0.003067945537623018\n"
     ]
    },
    {
     "name": "stderr",
     "output_type": "stream",
     "text": [
      " 71%|███████   | 212/300 [00:12<00:05, 17.20it/s]"
     ]
    },
    {
     "name": "stdout",
     "output_type": "stream",
     "text": [
      "Epoch 209: Train Loss 0.0035221037008644394\n",
      "Epoch 210: Train Loss 0.0034828494923810163\n",
      "Epoch 211: Train Loss 0.00385024652738745\n",
      "Epoch 212: Train Loss 0.006402652288670652\n"
     ]
    },
    {
     "name": "stderr",
     "output_type": "stream",
     "text": [
      " 72%|███████▏  | 216/300 [00:12<00:04, 17.76it/s]"
     ]
    },
    {
     "name": "stdout",
     "output_type": "stream",
     "text": [
      "Epoch 213: Train Loss 0.0037010715362460664\n",
      "Epoch 214: Train Loss 0.0038563902489840984\n",
      "Epoch 215: Train Loss 0.005447574231463174\n",
      "Epoch 216: Train Loss 0.0032088777516037226\n"
     ]
    },
    {
     "name": "stderr",
     "output_type": "stream",
     "text": [
      " 73%|███████▎  | 220/300 [00:12<00:04, 18.09it/s]"
     ]
    },
    {
     "name": "stdout",
     "output_type": "stream",
     "text": [
      "Epoch 217: Train Loss 0.006261011216944705\n",
      "Epoch 218: Train Loss 0.005017517561403413\n",
      "Epoch 219: Train Loss 0.0036929349007550627\n",
      "Epoch 220: Train Loss 0.0031623420897327983\n"
     ]
    },
    {
     "name": "stderr",
     "output_type": "stream",
     "text": [
      " 75%|███████▍  | 224/300 [00:13<00:04, 17.57it/s]"
     ]
    },
    {
     "name": "stdout",
     "output_type": "stream",
     "text": [
      "Epoch 221: Train Loss 0.005338480230420828\n",
      "Epoch 222: Train Loss 0.008190196298528463\n",
      "Epoch 223: Train Loss 0.005038150042916338\n",
      "Epoch 224: Train Loss 0.00594452671551456\n"
     ]
    },
    {
     "name": "stderr",
     "output_type": "stream",
     "text": [
      " 76%|███████▌  | 228/300 [00:13<00:04, 17.97it/s]"
     ]
    },
    {
     "name": "stdout",
     "output_type": "stream",
     "text": [
      "Epoch 225: Train Loss 0.00534601693895335\n",
      "Epoch 226: Train Loss 0.005098762611548106\n",
      "Epoch 227: Train Loss 0.013466477355298897\n",
      "Epoch 228: Train Loss 0.01212208264041692\n"
     ]
    },
    {
     "name": "stderr",
     "output_type": "stream",
     "text": [
      " 77%|███████▋  | 232/300 [00:13<00:03, 17.25it/s]"
     ]
    },
    {
     "name": "stdout",
     "output_type": "stream",
     "text": [
      "Epoch 229: Train Loss 0.020392989739775658\n",
      "Epoch 230: Train Loss 0.012165909827065965\n",
      "Epoch 231: Train Loss 0.007927583355922252\n",
      "Epoch 232: Train Loss 0.005552825789588193\n"
     ]
    },
    {
     "name": "stderr",
     "output_type": "stream",
     "text": [
      " 79%|███████▊  | 236/300 [00:13<00:03, 17.81it/s]"
     ]
    },
    {
     "name": "stdout",
     "output_type": "stream",
     "text": [
      "Epoch 233: Train Loss 0.0046329973653579755\n",
      "Epoch 234: Train Loss 0.004647393701209997\n",
      "Epoch 235: Train Loss 0.0026936919311992824\n",
      "Epoch 236: Train Loss 0.003283949694984282\n"
     ]
    },
    {
     "name": "stderr",
     "output_type": "stream",
     "text": [
      " 80%|████████  | 240/300 [00:13<00:03, 18.08it/s]"
     ]
    },
    {
     "name": "stdout",
     "output_type": "stream",
     "text": [
      "Epoch 237: Train Loss 0.008033166484286388\n",
      "Epoch 238: Train Loss 0.0039539496404662105\n",
      "Epoch 239: Train Loss 0.0024548496294301003\n",
      "Epoch 240: Train Loss 0.003314355213660747\n"
     ]
    },
    {
     "name": "stderr",
     "output_type": "stream",
     "text": [
      " 81%|████████▏ | 244/300 [00:14<00:03, 17.54it/s]"
     ]
    },
    {
     "name": "stdout",
     "output_type": "stream",
     "text": [
      "Epoch 241: Train Loss 0.0029192759636013457\n",
      "Epoch 242: Train Loss 0.0034550366593369595\n",
      "Epoch 243: Train Loss 0.0022659214349308363\n",
      "Epoch 244: Train Loss 0.0025352401038010917\n"
     ]
    },
    {
     "name": "stderr",
     "output_type": "stream",
     "text": [
      " 83%|████████▎ | 248/300 [00:14<00:02, 17.87it/s]"
     ]
    },
    {
     "name": "stdout",
     "output_type": "stream",
     "text": [
      "Epoch 245: Train Loss 0.004120733530726284\n",
      "Epoch 246: Train Loss 0.0028169810345085957\n",
      "Epoch 247: Train Loss 0.0037895133088265234\n",
      "Epoch 248: Train Loss 0.0024855802863991507\n"
     ]
    },
    {
     "name": "stderr",
     "output_type": "stream",
     "text": [
      " 84%|████████▍ | 252/300 [00:14<00:02, 17.19it/s]"
     ]
    },
    {
     "name": "stdout",
     "output_type": "stream",
     "text": [
      "Epoch 249: Train Loss 0.003569412154320162\n",
      "Epoch 250: Train Loss 0.00402259733042835\n",
      "Epoch 251: Train Loss 0.005708625249098986\n",
      "Epoch 252: Train Loss 0.009093937648382658\n"
     ]
    },
    {
     "name": "stderr",
     "output_type": "stream",
     "text": [
      " 85%|████████▌ | 256/300 [00:14<00:02, 17.70it/s]"
     ]
    },
    {
     "name": "stdout",
     "output_type": "stream",
     "text": [
      "Epoch 253: Train Loss 0.01594663943978958\n",
      "Epoch 254: Train Loss 0.010326611324368665\n",
      "Epoch 255: Train Loss 0.009854851406998932\n",
      "Epoch 256: Train Loss 0.010155021135384837\n"
     ]
    },
    {
     "name": "stderr",
     "output_type": "stream",
     "text": [
      " 87%|████████▋ | 260/300 [00:15<00:02, 17.91it/s]"
     ]
    },
    {
     "name": "stdout",
     "output_type": "stream",
     "text": [
      "Epoch 257: Train Loss 0.005099383425355579\n",
      "Epoch 258: Train Loss 0.005469615765226384\n",
      "Epoch 259: Train Loss 0.0031013463352185986\n",
      "Epoch 260: Train Loss 0.00445556555253764\n"
     ]
    },
    {
     "name": "stderr",
     "output_type": "stream",
     "text": [
      " 88%|████████▊ | 264/300 [00:15<00:02, 17.39it/s]"
     ]
    },
    {
     "name": "stdout",
     "output_type": "stream",
     "text": [
      "Epoch 261: Train Loss 0.002594545929847906\n",
      "Epoch 262: Train Loss 0.004323160578981818\n",
      "Epoch 263: Train Loss 0.002304046783441057\n",
      "Epoch 264: Train Loss 0.005761325815304493\n"
     ]
    },
    {
     "name": "stderr",
     "output_type": "stream",
     "text": [
      " 89%|████████▉ | 268/300 [00:15<00:01, 17.83it/s]"
     ]
    },
    {
     "name": "stdout",
     "output_type": "stream",
     "text": [
      "Epoch 265: Train Loss 0.003011392313055694\n",
      "Epoch 266: Train Loss 0.0020315505753387697\n",
      "Epoch 267: Train Loss 0.002210853524350872\n",
      "Epoch 268: Train Loss 0.002656173067710673\n"
     ]
    },
    {
     "name": "stderr",
     "output_type": "stream",
     "text": [
      " 91%|█████████ | 272/300 [00:15<00:01, 17.13it/s]"
     ]
    },
    {
     "name": "stdout",
     "output_type": "stream",
     "text": [
      "Epoch 269: Train Loss 0.0018953208103387926\n",
      "Epoch 270: Train Loss 0.0019237030113193516\n",
      "Epoch 271: Train Loss 0.0018059406017224926\n",
      "Epoch 272: Train Loss 0.0018271525004820433\n"
     ]
    },
    {
     "name": "stderr",
     "output_type": "stream",
     "text": [
      " 92%|█████████▏| 276/300 [00:15<00:01, 17.67it/s]"
     ]
    },
    {
     "name": "stdout",
     "output_type": "stream",
     "text": [
      "Epoch 273: Train Loss 0.0016218634167065222\n",
      "Epoch 274: Train Loss 0.0022845741502048136\n",
      "Epoch 275: Train Loss 0.0020383210818787725\n",
      "Epoch 276: Train Loss 0.0015522890692712583\n"
     ]
    },
    {
     "name": "stderr",
     "output_type": "stream",
     "text": [
      " 93%|█████████▎| 280/300 [00:16<00:01, 17.88it/s]"
     ]
    },
    {
     "name": "stdout",
     "output_type": "stream",
     "text": [
      "Epoch 277: Train Loss 0.0014286980173589352\n",
      "Epoch 278: Train Loss 0.001493332061121085\n",
      "Epoch 279: Train Loss 0.0014453341730889708\n",
      "Epoch 280: Train Loss 0.0015934039147396106\n"
     ]
    },
    {
     "name": "stderr",
     "output_type": "stream",
     "text": [
      " 95%|█████████▍| 284/300 [00:16<00:00, 17.39it/s]"
     ]
    },
    {
     "name": "stdout",
     "output_type": "stream",
     "text": [
      "Epoch 281: Train Loss 0.001650514523741246\n",
      "Epoch 282: Train Loss 0.0016443030641918692\n",
      "Epoch 283: Train Loss 0.0015447213700099383\n",
      "Epoch 284: Train Loss 0.0017148772603832185\n"
     ]
    },
    {
     "name": "stderr",
     "output_type": "stream",
     "text": [
      " 96%|█████████▌| 288/300 [00:16<00:00, 17.68it/s]"
     ]
    },
    {
     "name": "stdout",
     "output_type": "stream",
     "text": [
      "Epoch 285: Train Loss 0.0015545102942269295\n",
      "Epoch 286: Train Loss 0.0015695777353054534\n",
      "Epoch 287: Train Loss 0.001583227084969015\n",
      "Epoch 288: Train Loss 0.0017613203866252054\n"
     ]
    },
    {
     "name": "stderr",
     "output_type": "stream",
     "text": [
      " 97%|█████████▋| 292/300 [00:16<00:00, 17.04it/s]"
     ]
    },
    {
     "name": "stdout",
     "output_type": "stream",
     "text": [
      "Epoch 289: Train Loss 0.0015732934540816739\n",
      "Epoch 290: Train Loss 0.0015553337428476273\n",
      "Epoch 291: Train Loss 0.001341069244517712\n",
      "Epoch 292: Train Loss 0.0015044459384322788\n"
     ]
    },
    {
     "name": "stderr",
     "output_type": "stream",
     "text": [
      " 99%|█████████▊| 296/300 [00:17<00:00, 17.60it/s]"
     ]
    },
    {
     "name": "stdout",
     "output_type": "stream",
     "text": [
      "Epoch 293: Train Loss 0.001483843352010202\n",
      "Epoch 294: Train Loss 0.0015647991410029742\n",
      "Epoch 295: Train Loss 0.001549087525442398\n",
      "Epoch 296: Train Loss 0.0016343583029083675\n"
     ]
    },
    {
     "name": "stderr",
     "output_type": "stream",
     "text": [
      "100%|██████████| 300/300 [00:17<00:00, 17.32it/s]"
     ]
    },
    {
     "name": "stdout",
     "output_type": "stream",
     "text": [
      "Epoch 297: Train Loss 0.0015666382508546424\n",
      "Epoch 298: Train Loss 0.0015671275238370679\n",
      "Epoch 299: Train Loss 0.001449202681518121\n"
     ]
    },
    {
     "name": "stderr",
     "output_type": "stream",
     "text": [
      "\n"
     ]
    }
   ],
   "source": [
    "net, train_acc, valid_acc, test_acc = train_eval_model(mlp, criterion, optimizer, train_loader, val_loader, test_loader, max_epochs, validation_freq=10)"
   ]
  },
  {
   "cell_type": "code",
   "execution_count": null,
   "metadata": {},
   "outputs": [
    {
     "data": {
      "application/vnd.plotly.v1+json": {
       "config": {
        "plotlyServerURL": "https://plot.ly"
       },
       "data": [
        {
         "hovertemplate": "Epoch %{x}<br>Accuracy: %{y:.4f}<extra></extra>",
         "line": {
          "color": "#8b5cf6",
          "width": 2
         },
         "mode": "lines",
         "name": "Train Accuracy",
         "type": "scatter",
         "x": [
          1,
          2,
          3,
          4,
          5,
          6,
          7,
          8,
          9,
          10,
          11,
          12,
          13,
          14,
          15,
          16,
          17,
          18,
          19,
          20,
          21,
          22,
          23,
          24,
          25,
          26,
          27,
          28,
          29,
          30
         ],
         "y": [
          5.088640840446487,
          98.78529218647407,
          99.21208141825345,
          99.17925147734734,
          99.37623112278398,
          99.54038082731451,
          98.55548260013131,
          98.9494418910046,
          99.83585029546947,
          99.67170059093894,
          99.57321076822062,
          99.86868023637557,
          97.50492449113591,
          99.83585029546947,
          99.67170059093894,
          99.83585029546947,
          99.90151017728168,
          99.90151017728168,
          99.90151017728168,
          85.16086671043992,
          98.22718319107025,
          98.71963230466186,
          97.60341431385423,
          98.52265265922522,
          97.83322390019697,
          95.37097833223899,
          99.24491135915954,
          99.83585029546947,
          99.90151017728168,
          99.90151017728168
         ]
        },
        {
         "hovertemplate": "Epoch %{x}<br>Accuracy: %{y:.4f}<extra></extra>",
         "line": {
          "color": "#22c55e",
          "width": 2
         },
         "mode": "lines",
         "name": "Validation Accuracyy",
         "type": "scatter",
         "x": [
          1,
          2,
          3,
          4,
          5,
          6,
          7,
          8,
          9,
          10,
          11,
          12,
          13,
          14,
          15,
          16,
          17,
          18,
          19,
          20,
          21,
          22,
          23,
          24,
          25,
          26,
          27,
          28,
          29,
          30
         ],
         "y": [
          5.014749262536873,
          98.52507374631269,
          98.23008849557522,
          99.11504424778761,
          99.41002949852508,
          99.41002949852508,
          97.93510324483776,
          98.82005899705014,
          99.41002949852508,
          99.41002949852508,
          98.82005899705014,
          99.11504424778761,
          97.93510324483776,
          99.41002949852508,
          99.41002949852508,
          99.41002949852508,
          99.70501474926253,
          99.11504424778761,
          99.41002949852508,
          85.25073746312685,
          98.82005899705014,
          99.11504424778761,
          97.05014749262537,
          98.82005899705014,
          98.23008849557522,
          95.57522123893806,
          98.23008849557522,
          99.41002949852508,
          99.41002949852508,
          99.70501474926253
         ]
        },
        {
         "hovertemplate": "Epoch %{x}<br>Accuracy: %{y:.4f}<extra></extra>",
         "line": {
          "color": "#800080",
          "width": 2
         },
         "mode": "lines",
         "name": "Test Accuracyy",
         "type": "scatter",
         "x": [
          1,
          2,
          3,
          4,
          5,
          6,
          7,
          8,
          9,
          10,
          11,
          12,
          13,
          14,
          15,
          16,
          17,
          18,
          19,
          20,
          21,
          22,
          23,
          24,
          25,
          26,
          27,
          28,
          29,
          30
         ],
         "y": [
          6.896551724137931,
          98.6737400530504,
          97.87798408488064,
          98.6737400530504,
          98.6737400530504,
          99.20424403183023,
          96.81697612732096,
          97.87798408488064,
          99.20424403183023,
          99.20424403183023,
          98.40848806366049,
          98.93899204244032,
          96.81697612732096,
          98.93899204244032,
          98.6737400530504,
          98.93899204244032,
          99.20424403183023,
          98.93899204244032,
          99.20424403183023,
          85.14588859416446,
          97.08222811671088,
          97.87798408488064,
          96.02122015915118,
          96.81697612732096,
          96.55172413793103,
          94.42970822281167,
          98.40848806366049,
          98.93899204244032,
          98.93899204244032,
          98.93899204244032
         ]
        }
       ],
       "layout": {
        "hovermode": "x unified",
        "legend": {
         "x": 0.99,
         "xanchor": "right",
         "y": 0.99,
         "yanchor": "top"
        },
        "template": {
         "data": {
          "bar": [
           {
            "error_x": {
             "color": "#2a3f5f"
            },
            "error_y": {
             "color": "#2a3f5f"
            },
            "marker": {
             "line": {
              "color": "white",
              "width": 0.5
             },
             "pattern": {
              "fillmode": "overlay",
              "size": 10,
              "solidity": 0.2
             }
            },
            "type": "bar"
           }
          ],
          "barpolar": [
           {
            "marker": {
             "line": {
              "color": "white",
              "width": 0.5
             },
             "pattern": {
              "fillmode": "overlay",
              "size": 10,
              "solidity": 0.2
             }
            },
            "type": "barpolar"
           }
          ],
          "carpet": [
           {
            "aaxis": {
             "endlinecolor": "#2a3f5f",
             "gridcolor": "#C8D4E3",
             "linecolor": "#C8D4E3",
             "minorgridcolor": "#C8D4E3",
             "startlinecolor": "#2a3f5f"
            },
            "baxis": {
             "endlinecolor": "#2a3f5f",
             "gridcolor": "#C8D4E3",
             "linecolor": "#C8D4E3",
             "minorgridcolor": "#C8D4E3",
             "startlinecolor": "#2a3f5f"
            },
            "type": "carpet"
           }
          ],
          "choropleth": [
           {
            "colorbar": {
             "outlinewidth": 0,
             "ticks": ""
            },
            "type": "choropleth"
           }
          ],
          "contour": [
           {
            "colorbar": {
             "outlinewidth": 0,
             "ticks": ""
            },
            "colorscale": [
             [
              0,
              "#0d0887"
             ],
             [
              0.1111111111111111,
              "#46039f"
             ],
             [
              0.2222222222222222,
              "#7201a8"
             ],
             [
              0.3333333333333333,
              "#9c179e"
             ],
             [
              0.4444444444444444,
              "#bd3786"
             ],
             [
              0.5555555555555556,
              "#d8576b"
             ],
             [
              0.6666666666666666,
              "#ed7953"
             ],
             [
              0.7777777777777778,
              "#fb9f3a"
             ],
             [
              0.8888888888888888,
              "#fdca26"
             ],
             [
              1,
              "#f0f921"
             ]
            ],
            "type": "contour"
           }
          ],
          "contourcarpet": [
           {
            "colorbar": {
             "outlinewidth": 0,
             "ticks": ""
            },
            "type": "contourcarpet"
           }
          ],
          "heatmap": [
           {
            "colorbar": {
             "outlinewidth": 0,
             "ticks": ""
            },
            "colorscale": [
             [
              0,
              "#0d0887"
             ],
             [
              0.1111111111111111,
              "#46039f"
             ],
             [
              0.2222222222222222,
              "#7201a8"
             ],
             [
              0.3333333333333333,
              "#9c179e"
             ],
             [
              0.4444444444444444,
              "#bd3786"
             ],
             [
              0.5555555555555556,
              "#d8576b"
             ],
             [
              0.6666666666666666,
              "#ed7953"
             ],
             [
              0.7777777777777778,
              "#fb9f3a"
             ],
             [
              0.8888888888888888,
              "#fdca26"
             ],
             [
              1,
              "#f0f921"
             ]
            ],
            "type": "heatmap"
           }
          ],
          "histogram": [
           {
            "marker": {
             "pattern": {
              "fillmode": "overlay",
              "size": 10,
              "solidity": 0.2
             }
            },
            "type": "histogram"
           }
          ],
          "histogram2d": [
           {
            "colorbar": {
             "outlinewidth": 0,
             "ticks": ""
            },
            "colorscale": [
             [
              0,
              "#0d0887"
             ],
             [
              0.1111111111111111,
              "#46039f"
             ],
             [
              0.2222222222222222,
              "#7201a8"
             ],
             [
              0.3333333333333333,
              "#9c179e"
             ],
             [
              0.4444444444444444,
              "#bd3786"
             ],
             [
              0.5555555555555556,
              "#d8576b"
             ],
             [
              0.6666666666666666,
              "#ed7953"
             ],
             [
              0.7777777777777778,
              "#fb9f3a"
             ],
             [
              0.8888888888888888,
              "#fdca26"
             ],
             [
              1,
              "#f0f921"
             ]
            ],
            "type": "histogram2d"
           }
          ],
          "histogram2dcontour": [
           {
            "colorbar": {
             "outlinewidth": 0,
             "ticks": ""
            },
            "colorscale": [
             [
              0,
              "#0d0887"
             ],
             [
              0.1111111111111111,
              "#46039f"
             ],
             [
              0.2222222222222222,
              "#7201a8"
             ],
             [
              0.3333333333333333,
              "#9c179e"
             ],
             [
              0.4444444444444444,
              "#bd3786"
             ],
             [
              0.5555555555555556,
              "#d8576b"
             ],
             [
              0.6666666666666666,
              "#ed7953"
             ],
             [
              0.7777777777777778,
              "#fb9f3a"
             ],
             [
              0.8888888888888888,
              "#fdca26"
             ],
             [
              1,
              "#f0f921"
             ]
            ],
            "type": "histogram2dcontour"
           }
          ],
          "mesh3d": [
           {
            "colorbar": {
             "outlinewidth": 0,
             "ticks": ""
            },
            "type": "mesh3d"
           }
          ],
          "parcoords": [
           {
            "line": {
             "colorbar": {
              "outlinewidth": 0,
              "ticks": ""
             }
            },
            "type": "parcoords"
           }
          ],
          "pie": [
           {
            "automargin": true,
            "type": "pie"
           }
          ],
          "scatter": [
           {
            "fillpattern": {
             "fillmode": "overlay",
             "size": 10,
             "solidity": 0.2
            },
            "type": "scatter"
           }
          ],
          "scatter3d": [
           {
            "line": {
             "colorbar": {
              "outlinewidth": 0,
              "ticks": ""
             }
            },
            "marker": {
             "colorbar": {
              "outlinewidth": 0,
              "ticks": ""
             }
            },
            "type": "scatter3d"
           }
          ],
          "scattercarpet": [
           {
            "marker": {
             "colorbar": {
              "outlinewidth": 0,
              "ticks": ""
             }
            },
            "type": "scattercarpet"
           }
          ],
          "scattergeo": [
           {
            "marker": {
             "colorbar": {
              "outlinewidth": 0,
              "ticks": ""
             }
            },
            "type": "scattergeo"
           }
          ],
          "scattergl": [
           {
            "marker": {
             "colorbar": {
              "outlinewidth": 0,
              "ticks": ""
             }
            },
            "type": "scattergl"
           }
          ],
          "scattermap": [
           {
            "marker": {
             "colorbar": {
              "outlinewidth": 0,
              "ticks": ""
             }
            },
            "type": "scattermap"
           }
          ],
          "scattermapbox": [
           {
            "marker": {
             "colorbar": {
              "outlinewidth": 0,
              "ticks": ""
             }
            },
            "type": "scattermapbox"
           }
          ],
          "scatterpolar": [
           {
            "marker": {
             "colorbar": {
              "outlinewidth": 0,
              "ticks": ""
             }
            },
            "type": "scatterpolar"
           }
          ],
          "scatterpolargl": [
           {
            "marker": {
             "colorbar": {
              "outlinewidth": 0,
              "ticks": ""
             }
            },
            "type": "scatterpolargl"
           }
          ],
          "scatterternary": [
           {
            "marker": {
             "colorbar": {
              "outlinewidth": 0,
              "ticks": ""
             }
            },
            "type": "scatterternary"
           }
          ],
          "surface": [
           {
            "colorbar": {
             "outlinewidth": 0,
             "ticks": ""
            },
            "colorscale": [
             [
              0,
              "#0d0887"
             ],
             [
              0.1111111111111111,
              "#46039f"
             ],
             [
              0.2222222222222222,
              "#7201a8"
             ],
             [
              0.3333333333333333,
              "#9c179e"
             ],
             [
              0.4444444444444444,
              "#bd3786"
             ],
             [
              0.5555555555555556,
              "#d8576b"
             ],
             [
              0.6666666666666666,
              "#ed7953"
             ],
             [
              0.7777777777777778,
              "#fb9f3a"
             ],
             [
              0.8888888888888888,
              "#fdca26"
             ],
             [
              1,
              "#f0f921"
             ]
            ],
            "type": "surface"
           }
          ],
          "table": [
           {
            "cells": {
             "fill": {
              "color": "#EBF0F8"
             },
             "line": {
              "color": "white"
             }
            },
            "header": {
             "fill": {
              "color": "#C8D4E3"
             },
             "line": {
              "color": "white"
             }
            },
            "type": "table"
           }
          ]
         },
         "layout": {
          "annotationdefaults": {
           "arrowcolor": "#2a3f5f",
           "arrowhead": 0,
           "arrowwidth": 1
          },
          "autotypenumbers": "strict",
          "coloraxis": {
           "colorbar": {
            "outlinewidth": 0,
            "ticks": ""
           }
          },
          "colorscale": {
           "diverging": [
            [
             0,
             "#8e0152"
            ],
            [
             0.1,
             "#c51b7d"
            ],
            [
             0.2,
             "#de77ae"
            ],
            [
             0.3,
             "#f1b6da"
            ],
            [
             0.4,
             "#fde0ef"
            ],
            [
             0.5,
             "#f7f7f7"
            ],
            [
             0.6,
             "#e6f5d0"
            ],
            [
             0.7,
             "#b8e186"
            ],
            [
             0.8,
             "#7fbc41"
            ],
            [
             0.9,
             "#4d9221"
            ],
            [
             1,
             "#276419"
            ]
           ],
           "sequential": [
            [
             0,
             "#0d0887"
            ],
            [
             0.1111111111111111,
             "#46039f"
            ],
            [
             0.2222222222222222,
             "#7201a8"
            ],
            [
             0.3333333333333333,
             "#9c179e"
            ],
            [
             0.4444444444444444,
             "#bd3786"
            ],
            [
             0.5555555555555556,
             "#d8576b"
            ],
            [
             0.6666666666666666,
             "#ed7953"
            ],
            [
             0.7777777777777778,
             "#fb9f3a"
            ],
            [
             0.8888888888888888,
             "#fdca26"
            ],
            [
             1,
             "#f0f921"
            ]
           ],
           "sequentialminus": [
            [
             0,
             "#0d0887"
            ],
            [
             0.1111111111111111,
             "#46039f"
            ],
            [
             0.2222222222222222,
             "#7201a8"
            ],
            [
             0.3333333333333333,
             "#9c179e"
            ],
            [
             0.4444444444444444,
             "#bd3786"
            ],
            [
             0.5555555555555556,
             "#d8576b"
            ],
            [
             0.6666666666666666,
             "#ed7953"
            ],
            [
             0.7777777777777778,
             "#fb9f3a"
            ],
            [
             0.8888888888888888,
             "#fdca26"
            ],
            [
             1,
             "#f0f921"
            ]
           ]
          },
          "colorway": [
           "#636efa",
           "#EF553B",
           "#00cc96",
           "#ab63fa",
           "#FFA15A",
           "#19d3f3",
           "#FF6692",
           "#B6E880",
           "#FF97FF",
           "#FECB52"
          ],
          "font": {
           "color": "#2a3f5f"
          },
          "geo": {
           "bgcolor": "white",
           "lakecolor": "white",
           "landcolor": "white",
           "showlakes": true,
           "showland": true,
           "subunitcolor": "#C8D4E3"
          },
          "hoverlabel": {
           "align": "left"
          },
          "hovermode": "closest",
          "mapbox": {
           "style": "light"
          },
          "paper_bgcolor": "white",
          "plot_bgcolor": "white",
          "polar": {
           "angularaxis": {
            "gridcolor": "#EBF0F8",
            "linecolor": "#EBF0F8",
            "ticks": ""
           },
           "bgcolor": "white",
           "radialaxis": {
            "gridcolor": "#EBF0F8",
            "linecolor": "#EBF0F8",
            "ticks": ""
           }
          },
          "scene": {
           "xaxis": {
            "backgroundcolor": "white",
            "gridcolor": "#DFE8F3",
            "gridwidth": 2,
            "linecolor": "#EBF0F8",
            "showbackground": true,
            "ticks": "",
            "zerolinecolor": "#EBF0F8"
           },
           "yaxis": {
            "backgroundcolor": "white",
            "gridcolor": "#DFE8F3",
            "gridwidth": 2,
            "linecolor": "#EBF0F8",
            "showbackground": true,
            "ticks": "",
            "zerolinecolor": "#EBF0F8"
           },
           "zaxis": {
            "backgroundcolor": "white",
            "gridcolor": "#DFE8F3",
            "gridwidth": 2,
            "linecolor": "#EBF0F8",
            "showbackground": true,
            "ticks": "",
            "zerolinecolor": "#EBF0F8"
           }
          },
          "shapedefaults": {
           "line": {
            "color": "#2a3f5f"
           }
          },
          "ternary": {
           "aaxis": {
            "gridcolor": "#DFE8F3",
            "linecolor": "#A2B1C6",
            "ticks": ""
           },
           "baxis": {
            "gridcolor": "#DFE8F3",
            "linecolor": "#A2B1C6",
            "ticks": ""
           },
           "bgcolor": "white",
           "caxis": {
            "gridcolor": "#DFE8F3",
            "linecolor": "#A2B1C6",
            "ticks": ""
           }
          },
          "title": {
           "x": 0.05
          },
          "xaxis": {
           "automargin": true,
           "gridcolor": "#EBF0F8",
           "linecolor": "#EBF0F8",
           "ticks": "",
           "title": {
            "standoff": 15
           },
           "zerolinecolor": "#EBF0F8",
           "zerolinewidth": 2
          },
          "yaxis": {
           "automargin": true,
           "gridcolor": "#EBF0F8",
           "linecolor": "#EBF0F8",
           "ticks": "",
           "title": {
            "standoff": 15
           },
           "zerolinecolor": "#EBF0F8",
           "zerolinewidth": 2
          }
         }
        },
        "title": {
         "text": "Training, Validation and Test Accuracy over Epochs",
         "x": 0.5,
         "xanchor": "center",
         "y": 0.95,
         "yanchor": "top"
        },
        "xaxis": {
         "dtick": 3,
         "tick0": 1,
         "tickmode": "linear",
         "title": {
          "text": "Epochs"
         }
        },
        "yaxis": {
         "title": {
          "text": "Accuracy"
         }
        }
       }
      }
     },
     "metadata": {},
     "output_type": "display_data"
    }
   ],
   "source": [
    "plot_train_val_test_accuracy(train_acc, valid_acc, test_acc)"
   ]
  },
  {
   "cell_type": "code",
   "execution_count": null,
   "metadata": {},
   "outputs": [],
   "source": [
    "\n"
   ]
  },
  {
   "cell_type": "code",
   "execution_count": null,
   "metadata": {},
   "outputs": [],
   "source": []
  },
  {
   "cell_type": "code",
   "execution_count": null,
   "metadata": {},
   "outputs": [],
   "source": [
    "def get_labels(net, sessionID):\n",
    "    net.eval()\n",
    "    session = torch.tensor(psd_3d[sessionID,:,:], device=DEVICE, dtype=torch.float32).T\n",
    "    real_out = np.zeros((psd_3d.shape[2],3))\n",
    "    with torch.no_grad():\n",
    "        trial_out = net(session)\n",
    "        trial_label = torch.argmax(trial_out,dim=1)\n",
    "        print(trial_label.cpu().numpy().shape)\n",
    "        real_out[np.arange(896), trial_label.cpu().numpy()] = 1\n",
    "\n",
    "        \n",
    "    return real_out\n",
    "            "
   ]
  },
  {
   "cell_type": "code",
   "execution_count": null,
   "metadata": {},
   "outputs": [],
   "source": []
  },
  {
   "cell_type": "code",
   "execution_count": null,
   "metadata": {},
   "outputs": [],
   "source": [
    "\n",
    "#fast.shape\n",
    "\n",
    "#print(time_lfp.shape)\n",
    "#trial_lfp_label = np.zeros((time_lfp.shape[0],3))\n",
    "#print(trial_lfp_label.shape)"
   ]
  },
  {
   "cell_type": "code",
   "execution_count": null,
   "metadata": {},
   "outputs": [],
   "source": [
    "def resample_multicolumn(t_old, data_old, fs_new, method='linear'):\n",
    "    \"\"\"\n",
    "    Resample multi-column data to new sampling frequency\n",
    "    \n",
    "    Parameters:\n",
    "    t_old: original time vector\n",
    "    data_old: 2D array (n_samples, n_columns)  \n",
    "    fs_new: new sampling frequency (Hz)\n",
    "    method: interpolation method\n",
    "    \n",
    "    Returns:\n",
    "    t_new, data_new: new time vector and resampled data\n",
    "    \"\"\"\n",
    "    # Create new time vector\n",
    "    duration = t_old[-1] - t_old[0]\n",
    "    t_new = np.linspace(t_old[0], t_old[-1], int(duration * fs_new) + 1)\n",
    "    \n",
    "    # Interpolate all columns\n",
    "    data_new = np.zeros((len(t_new), data_old.shape[1]))\n",
    "    \n",
    "    for col in range(data_old.shape[1]):\n",
    "        f_interp = interpolate.interp1d(t_old, data_old[:, col], kind=method)\n",
    "        data_new[:, col] = f_interp(t_new)\n",
    "    \n",
    "    return t_new, data_new\n"
   ]
  },
  {
   "cell_type": "code",
   "execution_count": null,
   "metadata": {},
   "outputs": [
    {
     "name": "stdout",
     "output_type": "stream",
     "text": [
      "0       2\n",
      "11      3\n",
      "19      4\n",
      "29      5\n",
      "39      6\n",
      "49      7\n",
      "58      8\n",
      "71      9\n",
      "77     10\n",
      "86     11\n",
      "97     12\n",
      "109    14\n",
      "118    15\n",
      "128    16\n",
      "139    17\n",
      "150    18\n",
      "160    19\n",
      "Name: Session, dtype: int64\n"
     ]
    }
   ],
   "source": [
    "sessionid = dataset.loc[:,\"Animal\"]==animalID\n",
    "sessiontest = np.where(sessionid)[0]\n",
    "print(metadata.Session[sessiontest])"
   ]
  },
  {
   "cell_type": "code",
   "execution_count": null,
   "metadata": {},
   "outputs": [
    {
     "name": "stdout",
     "output_type": "stream",
     "text": [
      "(896,)\n",
      "[[1. 0. 0.]\n",
      " [1. 0. 0.]\n",
      " [1. 0. 0.]\n",
      " ...\n",
      " [1. 0. 0.]\n",
      " [1. 0. 0.]\n",
      " [1. 0. 0.]]\n",
      "(896,)\n",
      "[[1. 0. 0.]\n",
      " [1. 0. 0.]\n",
      " [1. 0. 0.]\n",
      " ...\n",
      " [1. 0. 0.]\n",
      " [1. 0. 0.]\n",
      " [1. 0. 0.]]\n",
      "(896,)\n",
      "[[1. 0. 0.]\n",
      " [1. 0. 0.]\n",
      " [1. 0. 0.]\n",
      " ...\n",
      " [1. 0. 0.]\n",
      " [0. 1. 0.]\n",
      " [1. 0. 0.]]\n",
      "(896,)\n",
      "[[1. 0. 0.]\n",
      " [1. 0. 0.]\n",
      " [1. 0. 0.]\n",
      " ...\n",
      " [1. 0. 0.]\n",
      " [1. 0. 0.]\n",
      " [1. 0. 0.]]\n",
      "(896,)\n",
      "[[1. 0. 0.]\n",
      " [1. 0. 0.]\n",
      " [1. 0. 0.]\n",
      " ...\n",
      " [1. 0. 0.]\n",
      " [1. 0. 0.]\n",
      " [1. 0. 0.]]\n",
      "(896,)\n",
      "[[1. 0. 0.]\n",
      " [1. 0. 0.]\n",
      " [1. 0. 0.]\n",
      " ...\n",
      " [1. 0. 0.]\n",
      " [1. 0. 0.]\n",
      " [1. 0. 0.]]\n",
      "(896,)\n",
      "[[1. 0. 0.]\n",
      " [1. 0. 0.]\n",
      " [1. 0. 0.]\n",
      " ...\n",
      " [1. 0. 0.]\n",
      " [1. 0. 0.]\n",
      " [1. 0. 0.]]\n",
      "(896,)\n",
      "[[1. 0. 0.]\n",
      " [1. 0. 0.]\n",
      " [1. 0. 0.]\n",
      " ...\n",
      " [1. 0. 0.]\n",
      " [1. 0. 0.]\n",
      " [1. 0. 0.]]\n",
      "(896,)\n",
      "[[1. 0. 0.]\n",
      " [1. 0. 0.]\n",
      " [1. 0. 0.]\n",
      " ...\n",
      " [1. 0. 0.]\n",
      " [1. 0. 0.]\n",
      " [1. 0. 0.]]\n",
      "(896,)\n",
      "[[1. 0. 0.]\n",
      " [1. 0. 0.]\n",
      " [1. 0. 0.]\n",
      " ...\n",
      " [1. 0. 0.]\n",
      " [1. 0. 0.]\n",
      " [1. 0. 0.]]\n",
      "(896,)\n",
      "[[1. 0. 0.]\n",
      " [1. 0. 0.]\n",
      " [1. 0. 0.]\n",
      " ...\n",
      " [1. 0. 0.]\n",
      " [1. 0. 0.]\n",
      " [1. 0. 0.]]\n",
      "(896,)\n",
      "[[1. 0. 0.]\n",
      " [1. 0. 0.]\n",
      " [1. 0. 0.]\n",
      " ...\n",
      " [1. 0. 0.]\n",
      " [1. 0. 0.]\n",
      " [1. 0. 0.]]\n",
      "(896,)\n",
      "[[1. 0. 0.]\n",
      " [1. 0. 0.]\n",
      " [1. 0. 0.]\n",
      " ...\n",
      " [1. 0. 0.]\n",
      " [1. 0. 0.]\n",
      " [1. 0. 0.]]\n",
      "(896,)\n",
      "[[1. 0. 0.]\n",
      " [1. 0. 0.]\n",
      " [1. 0. 0.]\n",
      " ...\n",
      " [1. 0. 0.]\n",
      " [1. 0. 0.]\n",
      " [1. 0. 0.]]\n",
      "(896,)\n",
      "[[1. 0. 0.]\n",
      " [1. 0. 0.]\n",
      " [1. 0. 0.]\n",
      " ...\n",
      " [1. 0. 0.]\n",
      " [1. 0. 0.]\n",
      " [1. 0. 0.]]\n",
      "(896,)\n",
      "[[0. 1. 0.]\n",
      " [0. 1. 0.]\n",
      " [0. 1. 0.]\n",
      " ...\n",
      " [1. 0. 0.]\n",
      " [0. 0. 1.]\n",
      " [0. 0. 1.]]\n",
      "(896,)\n",
      "[[0. 0. 1.]\n",
      " [0. 0. 1.]\n",
      " [0. 0. 1.]\n",
      " ...\n",
      " [1. 0. 0.]\n",
      " [1. 0. 0.]\n",
      " [1. 0. 0.]]\n"
     ]
    }
   ],
   "source": [
    "import os\n",
    "from pathlib import Path\n",
    "from scipy import interpolate\n",
    "#sessiontest = [20, 21, 22, 23, 24, 31, 46, 51, 55, 89, 150, 148, 110, 112, 114, 117, 120]\n",
    "animalID = 8790\n",
    "sessionid = dataset.loc[:,\"Animal\"]==animalID\n",
    "sessiontest = np.where(sessionid)[0]\n",
    "output_dir = Path(\"animal_plots_Seizure\")\n",
    "output_dir.mkdir(exist_ok=True)\n",
    "#essiontest = [117, 118, 120, 122, 123]\n",
    "start = -60\n",
    "stop = 120\n",
    "times = np.linspace(start, stop, len(times))\n",
    "for s_in in sessiontest:\n",
    "    \n",
    "    sample = torch.tensor(psd_3d[s_in,:,1], device=DEVICE, dtype=torch.float32).reshape(1, -1)\n",
    "    sample.shape\n",
    "    out_trial_label = get_labels(net,s_in)\n",
    "    print(out_trial_label)\n",
    "    animal_label = str(int(animalID))\n",
    "    session_label = str(int(metadata.Session[s_in]))\n",
    "    title = f\"Animal {animal_label} - Session {session_label}\"\n",
    "   \n",
    "    time_lfp = np.linspace(-60, 120, fast.shape[1])\n",
    "    trial_lfp_label = np.zeros((time_lfp.shape[0],3))\n",
    "    times_lfp, trial_lfp_label = resample_multicolumn(times, out_trial_label, 200, method='linear')\n",
    "    plt.figure()\n",
    "    plt.plot(times_lfp,fast[s_in,:])\n",
    "    plt.plot(times_lfp,trial_lfp_label[:,0], label=f'Baseline')\n",
    "    plt.plot(times_lfp,trial_lfp_label[:,1]*2, label=f'Noise')\n",
    "    plt.plot(times_lfp,trial_lfp_label[:,2]*5, label=f'Seizure')\n",
    "    plt.title(title, fontsize=14, fontweight='bold')\n",
    "    plt.legend()\n",
    "    \n",
    "    filename = f\"animal_{animal_label}_session_{session_label}.png\"\n",
    "    filepath = output_dir / filename\n",
    "    plt.savefig(filepath, dpi=300, bbox_inches='tight')\n",
    "    #plt.show()\n",
    "    plt.close()\n"
   ]
  },
  {
   "cell_type": "code",
   "execution_count": null,
   "metadata": {},
   "outputs": [
    {
     "name": "stdout",
     "output_type": "stream",
     "text": [
      "(14,)\n",
      "5\n"
     ]
    }
   ],
   "source": [
    "print(sessiontest.shape)\n",
    "print(low_freq)"
   ]
  },
  {
   "cell_type": "code",
   "execution_count": null,
   "metadata": {},
   "outputs": [
    {
     "name": "stdout",
     "output_type": "stream",
     "text": [
      "12226 14\n"
     ]
    }
   ],
   "source": [
    "\n",
    "print(metadata.Animal[117], metadata.Session[117])\n"
   ]
  },
  {
   "cell_type": "code",
   "execution_count": null,
   "metadata": {},
   "outputs": [],
   "source": [
    "\n",
    "\n"
   ]
  },
  {
   "cell_type": "code",
   "execution_count": null,
   "metadata": {},
   "outputs": [
    {
     "name": "stdout",
     "output_type": "stream",
     "text": [
      "/mnt/hdd/Workspace/MyThesisRecording/LeoFilestoRun/szenv\n"
     ]
    }
   ],
   "source": [
    "import sys\n",
    "print(sys.prefix)"
   ]
  },
  {
   "cell_type": "code",
   "execution_count": null,
   "metadata": {},
   "outputs": [],
   "source": []
  }
 ],
 "metadata": {
  "kaggle": {
   "accelerator": "none",
   "dataSources": [
    {
     "datasetId": 7540301,
     "sourceId": 11988302,
     "sourceType": "datasetVersion"
    }
   ],
   "dockerImageVersionId": 31040,
   "isGpuEnabled": false,
   "isInternetEnabled": true,
   "language": "python",
   "sourceType": "notebook"
  },
  "kernelspec": {
   "display_name": "szenv",
   "language": "python",
   "name": "python3"
  },
  "language_info": {
   "codemirror_mode": {
    "name": "ipython",
    "version": 3
   },
   "file_extension": ".py",
   "mimetype": "text/x-python",
   "name": "python",
   "nbconvert_exporter": "python",
   "pygments_lexer": "ipython3",
   "version": "3.13.3"
  }
 },
 "nbformat": 4,
 "nbformat_minor": 4
}
